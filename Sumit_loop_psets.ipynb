{
  "nbformat": 4,
  "nbformat_minor": 0,
  "metadata": {
    "colab": {
      "name": "Sumit loop_psets.ipynb",
      "provenance": [],
      "collapsed_sections": [
        "pCsSUlIBT-aK"
      ],
      "include_colab_link": true
    },
    "kernelspec": {
      "name": "python3",
      "display_name": "Python 3"
    }
  },
  "cells": [
    {
      "cell_type": "markdown",
      "metadata": {
        "id": "view-in-github",
        "colab_type": "text"
      },
      "source": [
        "<a href=\"https://colab.research.google.com/github/sumitx/PYTH225_Homework/blob/master/Sumit_loop_psets.ipynb\" target=\"_parent\"><img src=\"https://colab.research.google.com/assets/colab-badge.svg\" alt=\"Open In Colab\"/></a>"
      ]
    },
    {
      "cell_type": "markdown",
      "metadata": {
        "id": "rvLI0ikiT-ZV",
        "colab_type": "text"
      },
      "source": [
        "#  LOOPS"
      ]
    },
    {
      "cell_type": "markdown",
      "metadata": {
        "id": "uVRP-haTUEUp",
        "colab_type": "text"
      },
      "source": [
        "## BASICS"
      ]
    },
    {
      "cell_type": "markdown",
      "metadata": {
        "id": "qujIvC8iUFsS",
        "colab_type": "text"
      },
      "source": [
        "### P1.PY"
      ]
    },
    {
      "cell_type": "code",
      "metadata": {
        "id": "RiZnK5MMT-ZW",
        "colab_type": "code",
        "colab": {
          "base_uri": "https://localhost:8080/",
          "height": 51
        },
        "outputId": "a469fb5a-f8e0-4d89-ebef-8c46cce78d8a"
      },
      "source": [
        "\"\"\"\n",
        "Odds & Evens\n",
        "\"\"\"\n",
        "\n",
        "# Use a loop to make a list of all odd numbers between 1 and 10 and another list with all the evens. When done, print the lists.\n",
        "\n",
        "i=1\n",
        "even = []\n",
        "odd = []\n",
        "while i < 11:\n",
        "  if(i%2 == 0):\n",
        "    #even\n",
        "    even.append(i)\n",
        "  else: \n",
        "    odd.append(i)\n",
        "  i+=1\n",
        "\n",
        "\n",
        "\n",
        "# odds = \n",
        "print(odd)\n",
        "# evens = \n",
        "print(even)\n"
      ],
      "execution_count": 5,
      "outputs": [
        {
          "output_type": "stream",
          "text": [
            "[1, 3, 5, 7, 9]\n",
            "[2, 4, 6, 8, 10]\n"
          ],
          "name": "stdout"
        }
      ]
    },
    {
      "cell_type": "markdown",
      "metadata": {
        "id": "NZoDldAJT-ZZ",
        "colab_type": "text"
      },
      "source": [
        "\n",
        "\n",
        "### P2.PY\n",
        "\n",
        "\n"
      ]
    },
    {
      "cell_type": "code",
      "metadata": {
        "id": "6BxOPOuET-Za",
        "colab_type": "code",
        "colab": {
          "base_uri": "https://localhost:8080/",
          "height": 68
        },
        "outputId": "4a3a8bce-5ed1-4b78-9689-29f353b64d45"
      },
      "source": [
        "\"\"\"\n",
        "Lists with Duplicates\n",
        "\"\"\"\n",
        "\n",
        "# First, print list a below as it is now.\n",
        "\n",
        "a = [2, 4, 10, 20, 5, 2, 20, 4]\n",
        "b = [13, 2, 25, 20, 4, 8]\n",
        "\n",
        "print(a)\n",
        "\n",
        "# Using a loop, remove the duplicate items from list a and print out the updated list.\n",
        "i = 0\n",
        "a_clean = []\n",
        "while i < len(a):\n",
        "  if(a[i] not in a_clean):\n",
        "    a_clean.append(a[i])\n",
        "  i+=1\n",
        "print(a_clean)\n",
        "# Using a loop, merge list b into list a without adding any duplicates.\n",
        "for item in b:\n",
        "  if item not in a_clean:\n",
        "    a_clean.append(item)\n",
        "\n",
        "print(a_clean)"
      ],
      "execution_count": 13,
      "outputs": [
        {
          "output_type": "stream",
          "text": [
            "[2, 4, 10, 20, 5, 2, 20, 4]\n",
            "[2, 4, 10, 20, 5]\n",
            "[2, 4, 10, 20, 5, 13, 25, 8]\n"
          ],
          "name": "stdout"
        }
      ]
    },
    {
      "cell_type": "markdown",
      "metadata": {
        "id": "JiG0W3n3T-Ze",
        "colab_type": "text"
      },
      "source": [
        "\n",
        "\n",
        "### P3.PY\n",
        "\n",
        "\n"
      ]
    },
    {
      "cell_type": "code",
      "metadata": {
        "id": "PZY5tAw4T-Zf",
        "colab_type": "code",
        "colab": {
          "base_uri": "https://localhost:8080/",
          "height": 119
        },
        "outputId": "c316a06d-7f3e-48cb-edf6-b878f7b87e5c"
      },
      "source": [
        "\"\"\"\n",
        "Temperature Conversions\n",
        "\"\"\"\n",
        "\n",
        "# You're studying climate change, and over the last 3 years, you've recorded the temperature at noon every day in degrees Fahrenheit (F). The var sampleF holds a portion of those recordings. \n",
        "\n",
        "SampleF = [71.6, 82.4, 91.4, 107.6, 125.6]\n",
        "\n",
        "# Convert each item in this list into degrees Celsius and add the results to a dict called sample_temps so that the conversion of each day's temperature is easily accessible. For reference, the conversion equation between F and C is:\n",
        "# Celsius = (Fahrenheit - 32) * 5.0/9.0\n",
        "sample_temps = {}\n",
        "for temp in SampleF:\n",
        "  tempC = (temp - 32) * (5.0/9.0)\n",
        "  print(tempC)\n",
        "  sample_temps.update({temp: tempC})\n",
        "# sample_temps = \n",
        "print(sample_temps)\n"
      ],
      "execution_count": 19,
      "outputs": [
        {
          "output_type": "stream",
          "text": [
            "21.999999999999996\n",
            "28.000000000000004\n",
            "33.00000000000001\n",
            "42.0\n",
            "52.0\n",
            "{71.6: 21.999999999999996, 82.4: 28.000000000000004, 91.4: 33.00000000000001, 107.6: 42.0, 125.6: 52.0}\n"
          ],
          "name": "stdout"
        }
      ]
    },
    {
      "cell_type": "markdown",
      "metadata": {
        "id": "337FvlPKUNqp",
        "colab_type": "text"
      },
      "source": [
        "### P4.PY"
      ]
    },
    {
      "cell_type": "code",
      "metadata": {
        "id": "00D_V8BnT-Z2",
        "colab_type": "code",
        "colab": {
          "base_uri": "https://localhost:8080/",
          "height": 85
        },
        "outputId": "fc5d12cc-1d7d-4362-cffb-8c0731bf7294"
      },
      "source": [
        "\"\"\"\n",
        "Control Flow - I\n",
        "\n",
        "Print the numbers in some range until you find a multiple of 7. \n",
        "At that point, print \"___ is the first multiple of 7 in this \n",
        "range.\" If the range does NOT include any multiples of 7, after \n",
        "you've printed the last number in the range, print \"There are \n",
        "no multiples of 7 in this range.\n",
        "\"\"\"\n",
        "nums1 = [1,2,3,7,14,21,6]\n",
        "nums2 = [11,12,15]\n",
        "\n",
        "i=0\n",
        "while i < len(nums1): \n",
        "  if(nums1[i] % 7 == 0): \n",
        "    print(f\" {nums1[i]} is the first multiple of 7 in this range.\")\n",
        "    break\n",
        "  print(nums1[i])\n",
        "  if(i == len(nums1)-1):\n",
        "    print(\"There are no multiples of 7 in this range.\")\n",
        "    break\n",
        "  i += 1"
      ],
      "execution_count": 28,
      "outputs": [
        {
          "output_type": "stream",
          "text": [
            "1\n",
            "2\n",
            "3\n",
            " 7 is the first multiple of 7 in this range.\n"
          ],
          "name": "stdout"
        }
      ]
    },
    {
      "cell_type": "markdown",
      "metadata": {
        "id": "aeUUzlj2T-Z5",
        "colab_type": "text"
      },
      "source": [
        "\n",
        "\n",
        "### P5.PY\n",
        "\n",
        "\n"
      ]
    },
    {
      "cell_type": "code",
      "metadata": {
        "id": "BXM9shfoT-Z5",
        "colab_type": "code",
        "colab": {
          "base_uri": "https://localhost:8080/",
          "height": 85
        },
        "outputId": "4b3c39cf-7339-4826-b13e-645acfb26c89"
      },
      "source": [
        "\"\"\"\n",
        "Control Flow II\n",
        "\n",
        "Write a Python program that prints all the numbers from \n",
        "0 to 6 except 3 and 6. Note: Use a 'continue' statement. \n",
        "\"\"\"\n",
        "i=1\n",
        "while i < 7:\n",
        "  if i == 3 or i == 6:\n",
        "    i+=1\n",
        "    continue\n",
        "  print(i)\n",
        "  i+=1"
      ],
      "execution_count": 32,
      "outputs": [
        {
          "output_type": "stream",
          "text": [
            "1\n",
            "2\n",
            "4\n",
            "5\n"
          ],
          "name": "stdout"
        }
      ]
    },
    {
      "cell_type": "markdown",
      "metadata": {
        "id": "DGA_yKgt7KuB",
        "colab_type": "text"
      },
      "source": [
        "## FACTORS"
      ]
    },
    {
      "cell_type": "markdown",
      "metadata": {
        "id": "1WCBfmzxT-Zi",
        "colab_type": "text"
      },
      "source": [
        "\n",
        "\n",
        "### P1.PY\n",
        "\n",
        "\n"
      ]
    },
    {
      "cell_type": "code",
      "metadata": {
        "id": "D3n41TY3T-Zi",
        "colab_type": "code",
        "colab": {
          "base_uri": "https://localhost:8080/",
          "height": 51
        },
        "outputId": "d77232f3-6145-4c40-f35d-2082a3dcaa48"
      },
      "source": [
        "\"\"\"\n",
        "Factorial\n",
        "\"\"\"\n",
        "\n",
        "# Find the factorial of a number input by a user. Then print out the factors within the factorial and then print out the actual numeric answer. Hint: The formula for a factorial is n! = (n-1)*n.\n",
        "\n",
        "\n",
        "# Example output:\n",
        "\"\"\"\n",
        "8! = 8*7*6*5*4*3*2*1\n",
        "8! = 40320\n",
        "\"\"\"\n",
        "\n",
        "user_input = input('Enter a number to find its factorial: ')\n",
        "#User input is the max length we go to\n",
        "num = 1\n",
        "product = 1 \n",
        "while num <= int(user_input):\n",
        "  product *= num\n",
        "  num +=1\n",
        "\n",
        "print(product)"
      ],
      "execution_count": 38,
      "outputs": [
        {
          "output_type": "stream",
          "text": [
            "Enter a number to find its factorial: 7\n",
            "5040\n"
          ],
          "name": "stdout"
        }
      ]
    },
    {
      "cell_type": "markdown",
      "metadata": {
        "id": "34_iw8-4T-Zl",
        "colab_type": "text"
      },
      "source": [
        "\n",
        "\n",
        "### P2.PY\n",
        "\n",
        "\n"
      ]
    },
    {
      "cell_type": "code",
      "metadata": {
        "id": "EnPbAafST-Zm",
        "colab_type": "code",
        "colab": {
          "base_uri": "https://localhost:8080/",
          "height": 51
        },
        "outputId": "1a5bd148-3d45-4e91-d510-0506859e2521"
      },
      "source": [
        "\"\"\"\n",
        "Factors\n",
        "\"\"\"\n",
        "\n",
        "# Find all factors of a number that a user inputs and print out 'The factors of <the_user_input_number> are: '.\n",
        "\n",
        "user_input = input('Enter a number to find its factors: ')\n",
        "user_input = int(user_input)\n",
        "num = 1 \n",
        "factors = []\n",
        "while num <= user_input:\n",
        "  div = (user_input % num)\n",
        "  if (div == 0):\n",
        "    factors.append(num)\n",
        "  num +=1 \n",
        "print(f\"The factors of {user_input} are: {factors}\")"
      ],
      "execution_count": 54,
      "outputs": [
        {
          "output_type": "stream",
          "text": [
            "Enter a number to find its factors: 12\n",
            "The factors of 12 are: [1, 2, 3, 4, 6, 12]\n"
          ],
          "name": "stdout"
        }
      ]
    },
    {
      "cell_type": "markdown",
      "metadata": {
        "id": "XQbSY6kYT-Zo",
        "colab_type": "text"
      },
      "source": [
        "\n",
        "\n",
        "### P3.PY\n",
        "\n",
        "\n"
      ]
    },
    {
      "cell_type": "code",
      "metadata": {
        "id": "YFYeCVqWT-Zp",
        "colab_type": "code",
        "colab": {
          "base_uri": "https://localhost:8080/",
          "height": 85
        },
        "outputId": "570440f5-d132-441d-c69c-636b1ab1ddf5"
      },
      "source": [
        "\"\"\"\n",
        "GCD\n",
        "\"\"\"\n",
        "\n",
        "# Find the greatest common denominator (GCD) of two number input by a user. Then print out 'The GCD of <first number> and <second number> is <your result>.'\n",
        "\n",
        "print('Enter two numbers to find their greatest common denominator.')\n",
        "\n",
        "user_input1 = input('First number: ')\n",
        "user_input2 = input('Second number: ')\n",
        "\n",
        "user_input1 = int(user_input1)\n",
        "num = 1 \n",
        "factors1 = []\n",
        "while num <= user_input1:\n",
        "  div = (user_input1 % num)\n",
        "  if (div == 0):\n",
        "    factors1.append(num)\n",
        "  num +=1 \n",
        "\n",
        "# print(factors1)\n",
        "\n",
        "user_input2 = int(user_input2)\n",
        "num = 1 \n",
        "factors2 = []\n",
        "while num <= user_input2:\n",
        "  div = (user_input2 % num)\n",
        "  if (div == 0):\n",
        "    factors2.append(num)\n",
        "  num +=1 \n",
        "\n",
        "# print(factors2)\n",
        "\n",
        "factors1.sort(reverse=True)\n",
        "factors2.sort(reverse=True)\n",
        "\n",
        "gcd = 0\n",
        "done = False\n",
        "for someNum in factors1: \n",
        "  if(done == False):\n",
        "    for anotherNum in factors2: \n",
        "      if(someNum == anotherNum and done == False):\n",
        "        gcd = someNum\n",
        "        done = True\n",
        "        break\n",
        "\n",
        "print(f\"The GCD of {user_input1} and {user_input2} is {gcd}\")"
      ],
      "execution_count": 66,
      "outputs": [
        {
          "output_type": "stream",
          "text": [
            "Enter two numbers to find their greatest common denominator.\n",
            "First number: 100\n",
            "Second number: 200\n",
            "The GCD of 100 and 200 is 100\n"
          ],
          "name": "stdout"
        }
      ]
    },
    {
      "cell_type": "markdown",
      "metadata": {
        "id": "HvXqnAyuT-Z8",
        "colab_type": "text"
      },
      "source": [
        "## SHAPES\n",
        "\n",
        "\n"
      ]
    },
    {
      "cell_type": "markdown",
      "metadata": {
        "id": "OU_s6uQgUQf-",
        "colab_type": "text"
      },
      "source": [
        "### P1.PY"
      ]
    },
    {
      "cell_type": "code",
      "metadata": {
        "id": "ruFtcQasT-Z9",
        "colab_type": "code",
        "colab": {
          "base_uri": "https://localhost:8080/",
          "height": 102
        },
        "outputId": "fcc5d2df-8a3c-49fa-ac4c-d99a78c59734"
      },
      "source": [
        "\"\"\"\n",
        "Build a Triangle I \n",
        "\n",
        "Use a FOR loop to print a triangle of stars that looks like this:\n",
        "\n",
        "*\n",
        "**\n",
        "***\n",
        "****\n",
        "*****\n",
        "\n",
        "\"\"\"\n",
        "\n",
        "for i in range(1,6):\n",
        "  print(i * \"*\")"
      ],
      "execution_count": 71,
      "outputs": [
        {
          "output_type": "stream",
          "text": [
            "*\n",
            "**\n",
            "***\n",
            "****\n",
            "*****\n"
          ],
          "name": "stdout"
        }
      ]
    },
    {
      "cell_type": "markdown",
      "metadata": {
        "colab_type": "text",
        "id": "FSN_Wqyf8UnQ"
      },
      "source": [
        "### P2.PY"
      ]
    },
    {
      "cell_type": "code",
      "metadata": {
        "colab_type": "code",
        "id": "6oJisy5A8UnV",
        "colab": {
          "base_uri": "https://localhost:8080/",
          "height": 119
        },
        "outputId": "fc4274d3-6031-4d9b-b5fc-fb938d1c835f"
      },
      "source": [
        "\"\"\"\n",
        "Build a Triangle II\n",
        "\n",
        "Use a WHILE loop to print a triangle of stars that looks like this:\n",
        "\n",
        "*\n",
        "**\n",
        "***\n",
        "****\n",
        "*****\n",
        "\n",
        "\"\"\"\n",
        "i = 0 \n",
        "while i < 6:\n",
        "  print(i * \"*\")\n",
        "  i+=1"
      ],
      "execution_count": 74,
      "outputs": [
        {
          "output_type": "stream",
          "text": [
            "\n",
            "*\n",
            "**\n",
            "***\n",
            "****\n",
            "*****\n"
          ],
          "name": "stdout"
        }
      ]
    },
    {
      "cell_type": "markdown",
      "metadata": {
        "id": "kE68tEQnT-aE",
        "colab_type": "text"
      },
      "source": [
        "\n",
        "\n",
        "### P3.PY\n",
        "\n",
        "\n"
      ]
    },
    {
      "cell_type": "code",
      "metadata": {
        "id": "n2pxG5J6T-aF",
        "colab_type": "code",
        "colab": {
          "base_uri": "https://localhost:8080/",
          "height": 102
        },
        "outputId": "85280f80-5bf4-4047-9689-709f0b3483f2"
      },
      "source": [
        "\"\"\"\n",
        "Build a Pyramid I\n",
        "\n",
        "Use a FOR loop to print a pyramid of stars that looks like this:\n",
        "\n",
        "    *\n",
        "   ***\n",
        "  *****\n",
        " *******\n",
        "*********\n",
        "\n",
        "\"\"\"\n",
        "\n",
        "spaces = 4\n",
        "for i in range(1,11,2):\n",
        "  print(\" \" * spaces, i*\"*\")\n",
        "  spaces -= 1\n",
        "  \n"
      ],
      "execution_count": 86,
      "outputs": [
        {
          "output_type": "stream",
          "text": [
            "     *\n",
            "    ***\n",
            "   *****\n",
            "  *******\n",
            " *********\n"
          ],
          "name": "stdout"
        }
      ]
    },
    {
      "cell_type": "markdown",
      "metadata": {
        "colab_type": "text",
        "id": "I-A5Y-oo8Una"
      },
      "source": [
        "### P4.PY\n"
      ]
    },
    {
      "cell_type": "code",
      "metadata": {
        "colab_type": "code",
        "id": "UwNy5b028Unb",
        "colab": {
          "base_uri": "https://localhost:8080/",
          "height": 102
        },
        "outputId": "564ce408-538c-4b06-f7d9-79eda0c4706f"
      },
      "source": [
        "\"\"\"\n",
        "Build a Pyramid II\n",
        "\n",
        "Use a WHILE loop to print a pyramid of stars that looks like this:\n",
        "\n",
        "    *\n",
        "   ***\n",
        "  *****\n",
        " *******\n",
        "*********\n",
        "\n",
        "\"\"\"\n",
        "spaces = 4\n",
        "i = 1\n",
        "while i < 11:\n",
        "  print(\" \" * spaces, i*\"*\")\n",
        "  spaces -= 1\n",
        "  i+=2\n"
      ],
      "execution_count": 88,
      "outputs": [
        {
          "output_type": "stream",
          "text": [
            "     *\n",
            "    ***\n",
            "   *****\n",
            "  *******\n",
            " *********\n"
          ],
          "name": "stdout"
        }
      ]
    },
    {
      "cell_type": "markdown",
      "metadata": {
        "id": "wtaxsnSST-aH",
        "colab_type": "text"
      },
      "source": [
        "\n",
        "\n",
        "### P5.PY\n",
        "\n",
        "\n"
      ]
    },
    {
      "cell_type": "code",
      "metadata": {
        "id": "fiYt3OQrT-aI",
        "colab_type": "code",
        "colab": {
          "base_uri": "https://localhost:8080/",
          "height": 170
        },
        "outputId": "f5c18042-e151-4757-c46f-beb81b89143b"
      },
      "source": [
        "\"\"\"\n",
        "Build a Diamond I\n",
        "\n",
        "Use a FOR loop to print a diamond of stars that looks like this:\n",
        "\n",
        "    *\n",
        "   ***\n",
        "  *****\n",
        " *******\n",
        "*********\n",
        " *******\n",
        "  *****\n",
        "   ***\n",
        "    *\n",
        "\"\"\"\n",
        "\n",
        "spaces = 4\n",
        "for i in range(1,11,2):\n",
        "  print(\" \" * spaces, i*\"*\")\n",
        "  spaces -= 1\n",
        "  # print(i)\n",
        "  if(i == 9): \n",
        "    spaces = 1\n",
        "    i = i-2\n",
        "    print(\" \" * spaces, i*\"*\")\n",
        "    spaces += 1\n",
        "    i = i-2\n",
        "    print(\" \" * spaces, i*\"*\")\n",
        "    spaces += 1\n",
        "    i = i-2\n",
        "    print(\" \" * spaces, i*\"*\")\n",
        "    spaces += 1\n",
        "    i = i-2\n",
        "    print(\" \" * spaces, i*\"*\")\n",
        "\n"
      ],
      "execution_count": 104,
      "outputs": [
        {
          "output_type": "stream",
          "text": [
            "     *\n",
            "    ***\n",
            "   *****\n",
            "  *******\n",
            " *********\n",
            "  *******\n",
            "   *****\n",
            "    ***\n",
            "     *\n"
          ],
          "name": "stdout"
        }
      ]
    },
    {
      "cell_type": "markdown",
      "metadata": {
        "colab_type": "text",
        "id": "l7AOi4Xa8Une"
      },
      "source": [
        "### P6.PY"
      ]
    },
    {
      "cell_type": "code",
      "metadata": {
        "colab_type": "code",
        "id": "oK7nfy_D8Unj",
        "colab": {
          "base_uri": "https://localhost:8080/",
          "height": 170
        },
        "outputId": "2a46b844-735a-446f-dd2c-bccf9d90afac"
      },
      "source": [
        "\"\"\"\n",
        "Build a Diamond II\n",
        "\n",
        "Use a WHILE loop to print a diamond of stars that looks like this:\n",
        "\n",
        "    *\n",
        "   ***\n",
        "  *****\n",
        " *******\n",
        "*********\n",
        " *******\n",
        "  *****\n",
        "   ***\n",
        "    *\n",
        "\"\"\"\n",
        "\n",
        "spaces = 4\n",
        "i = 1\n",
        "while i < 11:\n",
        "  print(\" \" * spaces, i*\"*\")\n",
        "  spaces -= 1\n",
        "  if(i == 9):\n",
        "    spaces = 1\n",
        "    i = i-2\n",
        "    print(\" \" * spaces, i*\"*\")\n",
        "    spaces += 1\n",
        "    i = i-2\n",
        "    print(\" \" * spaces, i*\"*\")\n",
        "    spaces += 1\n",
        "    i = i-2\n",
        "    print(\" \" * spaces, i*\"*\")\n",
        "    spaces += 1\n",
        "    i = i-2\n",
        "    print(\" \" * spaces, i*\"*\")\n",
        "    break\n",
        "  i+=2"
      ],
      "execution_count": 113,
      "outputs": [
        {
          "output_type": "stream",
          "text": [
            "     *\n",
            "    ***\n",
            "   *****\n",
            "  *******\n",
            " *********\n",
            "  *******\n",
            "   *****\n",
            "    ***\n",
            "     *\n"
          ],
          "name": "stdout"
        }
      ]
    },
    {
      "cell_type": "markdown",
      "metadata": {
        "id": "pCsSUlIBT-aK",
        "colab_type": "text"
      },
      "source": [
        "## LOOP_CHALLENGES\n",
        "\n"
      ]
    },
    {
      "cell_type": "markdown",
      "metadata": {
        "id": "jwd1KZXKUTAc",
        "colab_type": "text"
      },
      "source": [
        "### P1.PY"
      ]
    },
    {
      "cell_type": "code",
      "metadata": {
        "id": "cKlAnBVhT-aL",
        "colab_type": "code",
        "colab": {}
      },
      "source": [
        "\"\"\"\n",
        "Valid Passwords\n",
        "\"\"\"\n",
        "\n",
        "# Check the validity of password input by users based on the below security requirements: At least 1 letter between [a-z] and 1 letter between [A-Z].\n",
        "\"\"\"\n",
        "# At least 1 letter between [a-z] and 1 letter between [A-Z].\n",
        "#At least 1 number between [0-9].\n",
        "At least 1 character from [$#@].\n",
        "Minimum length 6 characters.\n",
        "Maximum length 16 characters.\n",
        "\"\"\"\n",
        "\n",
        "\n",
        "# Hint: Look up the documentation for the \"re\" library and it's \".search()\" method.\n",
        "\n",
        "# p = input(\"Input your password: \")"
      ],
      "execution_count": 0,
      "outputs": []
    },
    {
      "cell_type": "markdown",
      "metadata": {
        "id": "lDd1dMe5T-aN",
        "colab_type": "text"
      },
      "source": [
        "\n",
        "\n",
        "### P2.PY\n",
        "\n",
        "\n"
      ]
    },
    {
      "cell_type": "code",
      "metadata": {
        "id": "n8kuflOLT-aR",
        "colab_type": "code",
        "colab": {}
      },
      "source": [
        "\"\"\"\n",
        "Prime Numbers I\n",
        "\"\"\"\n",
        "\n",
        "# Check if a number input by a user is prime or not. If it is NOT a prime number, print out that it is not a prime number. If it IS a prime number, print out that it is a prime number and give an example of two of its factors. Hint: Prime numbers must be greater than 1.\n",
        "\n",
        "# Example of output for a NON-prime:\n",
        "# 12 is not a prime number\n",
        "# For example, 2 x 6 = 12\n",
        "\n",
        "\n",
        "\n",
        "# user_input = input(\"Enter a number to check if it's prime: \")\n",
        "\n"
      ],
      "execution_count": 0,
      "outputs": []
    }
  ]
}