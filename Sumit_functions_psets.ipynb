{
  "nbformat": 4,
  "nbformat_minor": 0,
  "metadata": {
    "colab": {
      "name": "Sumit functions_psets.ipynb",
      "provenance": [],
      "collapsed_sections": [],
      "include_colab_link": true
    },
    "kernelspec": {
      "name": "python3",
      "display_name": "Python 3"
    }
  },
  "cells": [
    {
      "cell_type": "markdown",
      "metadata": {
        "id": "view-in-github",
        "colab_type": "text"
      },
      "source": [
        "<a href=\"https://colab.research.google.com/github/sumitx/PYTH225_Homework/blob/master/Sumit_functions_psets.ipynb\" target=\"_parent\"><img src=\"https://colab.research.google.com/assets/colab-badge.svg\" alt=\"Open In Colab\"/></a>"
      ]
    },
    {
      "cell_type": "markdown",
      "metadata": {
        "id": "43e1PgRyNeyZ",
        "colab_type": "text"
      },
      "source": [
        "<a href=\"https://colab.research.google.com/github/mottaquikarim/PYTH2/blob/master/src/PSETS/nb/classes_psets.ipynb\" target=\"_parent\"><img src=\"https://colab.research.google.com/assets/colab-badge.svg\" alt=\"Open In Colab\"/></a>"
      ]
    },
    {
      "cell_type": "markdown",
      "metadata": {
        "id": "_IvyUuPjNeyb",
        "colab_type": "text"
      },
      "source": [
        "#  FUNCTIONS"
      ]
    },
    {
      "cell_type": "markdown",
      "metadata": {
        "id": "RGgp__RZNvUy",
        "colab_type": "text"
      },
      "source": [
        "## BASIC FUNCTION OPS"
      ]
    },
    {
      "cell_type": "markdown",
      "metadata": {
        "id": "yEdzSlN8NwyE",
        "colab_type": "text"
      },
      "source": [
        "### P1.PY"
      ]
    },
    {
      "cell_type": "code",
      "metadata": {
        "id": "XixCtMjENeye",
        "colab_type": "code",
        "colab": {
          "base_uri": "https://localhost:8080/",
          "height": 34
        },
        "outputId": "d585aede-7481-4ff8-c3d4-c264516f69d4"
      },
      "source": [
        "\"\"\"\n",
        "Function Basics I - No Input\n",
        "\"\"\"\n",
        "\n",
        "import random\n",
        "\n",
        "# Write a and call a function called \"rand_list\" that generates a list of 5 random numbers between 1 and 500. Print out that list.\n",
        "def rand_list() -> list:\n",
        "  num1 = random.randrange(1,500)\n",
        "  num2 = random.randrange(1,500)\n",
        "  num3 = random.randrange(1,500)\n",
        "  num4 = random.randrange(1,500)\n",
        "  num5 = random.randrange(1,500)\n",
        "\n",
        "  return [num1, num2, num3, num4, num5]\n",
        "\n",
        "print(rand_list())\n"
      ],
      "execution_count": 3,
      "outputs": [
        {
          "output_type": "stream",
          "text": [
            "[324, 87, 387, 162, 125]\n"
          ],
          "name": "stdout"
        }
      ]
    },
    {
      "cell_type": "markdown",
      "metadata": {
        "id": "JHygF2-tNeyk",
        "colab_type": "text"
      },
      "source": [
        "### P2.PY\n"
      ]
    },
    {
      "cell_type": "code",
      "metadata": {
        "id": "a08oiPvoNeyl",
        "colab_type": "code",
        "colab": {
          "base_uri": "https://localhost:8080/",
          "height": 34
        },
        "outputId": "35fdda8e-6137-446c-a23a-623855c7a6cb"
      },
      "source": [
        "\"\"\"\n",
        "Function Basics II - Arguments\n",
        "\"\"\"\n",
        "\n",
        "# Write a and call function called \"names\" that separately intakes a person's first name and a person's last name. It should concatenate the names and return the person's full name.\n",
        "def names(fname: str, lname: str) -> str: \n",
        "  return fname + \" \" + lname\n",
        "\n",
        "print(names(\"Sumit\", \"Pal\"))"
      ],
      "execution_count": 5,
      "outputs": [
        {
          "output_type": "stream",
          "text": [
            "Sumit Pal\n"
          ],
          "name": "stdout"
        }
      ]
    },
    {
      "cell_type": "markdown",
      "metadata": {
        "id": "tFsdo4A6Neyn",
        "colab_type": "text"
      },
      "source": [
        "\n",
        "### P3.PY\n"
      ]
    },
    {
      "cell_type": "code",
      "metadata": {
        "id": "DBA7Joa8Neyp",
        "colab_type": "code",
        "colab": {
          "base_uri": "https://localhost:8080/",
          "height": 34
        },
        "outputId": "63d5b383-56ec-4bb7-f44f-b1cd03b39db5"
      },
      "source": [
        "\"\"\"\n",
        "Function Basics III - Default Arguments\n",
        "\"\"\"\n",
        "\n",
        "# Now write a and call function called \"fave_colors\" that separately intakes a person's first name, a person's last name, and **optionally** their favorite color.\n",
        "\n",
        "# The function should create and return a dict with the full name as a key and the favorite color as the value. If the person does not enter a favorite color, you should assume they have no favorite color and assign theirs to None. Try both use cases.\n",
        "\n",
        "def fave_colors(fname: str, lname: str, fav_color = None) -> dict:\n",
        "  return dict({fname + \" \" + lname :  fav_color})\n",
        "\n",
        "print(fave_colors(\"Sumit\", \"Pal\", \"blue\"))\n",
        "\n"
      ],
      "execution_count": 6,
      "outputs": [
        {
          "output_type": "stream",
          "text": [
            "{'Sumit Pal': 'blue'}\n"
          ],
          "name": "stdout"
        }
      ]
    },
    {
      "cell_type": "markdown",
      "metadata": {
        "id": "cWqpS8KLNeyz",
        "colab_type": "text"
      },
      "source": [
        "\n",
        "### P4.PY\n"
      ]
    },
    {
      "cell_type": "code",
      "metadata": {
        "id": "WmATxpzvNey0",
        "colab_type": "code",
        "colab": {
          "base_uri": "https://localhost:8080/",
          "height": 68
        },
        "outputId": "02518684-b527-4a7e-82f3-07eb59b39424"
      },
      "source": [
        "\"\"\"\n",
        "Function Basics IV - Multiple Return Values\n",
        "\"\"\"\n",
        "\n",
        "# Write a and call a function called \"figures\" that takes any two numbers and **individually** returns the following as integers:\n",
        "# their sum\n",
        "# their product\n",
        "# the quotient for num1 / num2\n",
        "\n",
        "\"\"\"Print each value out individually in this format:\n",
        "(using 12 and 3)\n",
        "sum: 15\n",
        "product: 36\n",
        "quotient: 4\n",
        "\"\"\"\n",
        "\n",
        "def figures(num1:int, num2:int) -> tuple:\n",
        "  our_sum = num1 + num2\n",
        "  our_product = num1 * num2\n",
        "  our_quotient = num1 / num2\n",
        "  return our_sum, our_product, our_quotient\n",
        "\n",
        "out_sum, out_product, out_quotient = figures(12, 3)\n",
        "print(f\"sum: {out_sum}\")\n",
        "print(f\"product: {out_product}\")\n",
        "print(f\"quotient: {out_quotient}\")"
      ],
      "execution_count": 10,
      "outputs": [
        {
          "output_type": "stream",
          "text": [
            "sum: 15\n",
            "product: 36\n",
            "quotient: 4.0\n"
          ],
          "name": "stdout"
        }
      ]
    },
    {
      "cell_type": "markdown",
      "metadata": {
        "id": "pqxwEC16Ney2",
        "colab_type": "text"
      },
      "source": [
        "\n",
        "### P5.PY\n"
      ]
    },
    {
      "cell_type": "code",
      "metadata": {
        "id": "i_tVcZ1FNey3",
        "colab_type": "code",
        "colab": {
          "base_uri": "https://localhost:8080/",
          "height": 51
        },
        "outputId": "dfa069ce-a63b-4a73-e6d3-1efcc34b32f7"
      },
      "source": [
        "\"\"\"\n",
        "Function Basics V - Indeterminate Arguments\n",
        "\"\"\"\n",
        "\n",
        "# Write a and call a function called \"high_low\" that takes 3 numbers and returns the highest and lowest ones.\n",
        "def high_low(num1:int, num2:int, num3:int) -> tuple:\n",
        "   maximum = max(num1, num2, num3)\n",
        "   minimum = min(num1, num2, num3)\n",
        "   return maximum, minimum\n",
        "\n",
        "mx, mn = high_low(1,2,3)\n",
        "print(mx)\n",
        "print(mn)\n"
      ],
      "execution_count": 11,
      "outputs": [
        {
          "output_type": "stream",
          "text": [
            "3\n",
            "1\n"
          ],
          "name": "stdout"
        }
      ]
    },
    {
      "cell_type": "markdown",
      "metadata": {
        "id": "1p9TsLXtNey5",
        "colab_type": "text"
      },
      "source": [
        "\n",
        "## DB_SEARCH\n"
      ]
    },
    {
      "cell_type": "markdown",
      "metadata": {
        "id": "W5DLuftkNyog",
        "colab_type": "text"
      },
      "source": [
        "### P1.PY"
      ]
    },
    {
      "cell_type": "code",
      "metadata": {
        "id": "WvU9x79ZNey6",
        "colab_type": "code",
        "colab": {
          "base_uri": "https://localhost:8080/",
          "height": 34
        },
        "outputId": "3cf4a1c8-1550-450c-c1e7-9f92c2aa5909"
      },
      "source": [
        "\"\"\"\n",
        "GPA Calculator\n",
        "\"\"\"\n",
        "\n",
        "# Write a function called \"simple_gpa\" to find GPA when student enters a letter grade as a string. Assign the result to a variable called \"gpa\".\n",
        "\n",
        "\"\"\"\n",
        "Use these conversions:\n",
        "A+ --> 4.0\n",
        "A --> 4.0\n",
        "A- --> 3.7\n",
        "B+ --> 3.3\n",
        "B --> 3.0\n",
        "B- --> 2.7\n",
        "C+ --> 2.3\n",
        "C --> 2.0\n",
        "C- --> 1.7\n",
        "D+ --> 1.3\n",
        "D --> 1.0\n",
        "D- --> 0.7\n",
        "F --> 0.0\n",
        "\"\"\"\n",
        "def simple_gpa(grade:str) -> float:\n",
        "  if(grade == \"A+\"): return 4.0\n",
        "  elif(grade == \"A\"): return 4.0\n",
        "  elif(grade == \"A-\"): return 3.7\n",
        "  elif(grade == \"B+\"): return 3.3\n",
        "  elif(grade == \"B\"): return 3.0\n",
        "  elif(grade == \"B-\"): return 2.7\n",
        "  elif(grade == \"C+\"): return 2.3\n",
        "  elif(grade == \"C\"): return 2.0\n",
        "  elif(grade == \"C-\"): return 1.7\n",
        "  elif(grade == \"D+\"): return 1.3\n",
        "  elif(grade == \"D\"): return 1.0\n",
        "  elif(grade == \"D-\"): return 0.7\n",
        "  elif(grade == \"F\"): return 0.0\n",
        "  else: \n",
        "    return None\n",
        "\n",
        "gpa = simple_gpa(\"A+\")\n",
        "if(gpa is None): \n",
        "  print(\"There was an error with the input\")\n",
        "else: \n",
        "  print(gpa)"
      ],
      "execution_count": 18,
      "outputs": [
        {
          "output_type": "stream",
          "text": [
            "4.0\n"
          ],
          "name": "stdout"
        }
      ]
    },
    {
      "cell_type": "markdown",
      "metadata": {
        "id": "XJfdr65oNey8",
        "colab_type": "text"
      },
      "source": [
        "\n",
        "### P2.PY\n",
        "\n"
      ]
    },
    {
      "cell_type": "code",
      "metadata": {
        "id": "STG3hDMhNey9",
        "colab_type": "code",
        "colab": {
          "base_uri": "https://localhost:8080/",
          "height": 51
        },
        "outputId": "de77221a-488a-4518-b8c2-84384510f726"
      },
      "source": [
        "\"\"\"\n",
        "RGB to HEX\n",
        "\"\"\"\n",
        "\n",
        "# Write a and call a function called \"rgb_hex\" that takes a parameter called \"color.\" The function should be able to intake a color in rgb format and return it in hex format as well as vice versa. A sample of color conversions are below. Write in logic so the function can interpret rgb and hex colors entered in different formats such as \"rgb_hex((255,255,255))\" or \"rgb_hex('ffffff')\". Also make sure to account for someone inputting a color not in the database.\n",
        "\n",
        "color_conversions = {\n",
        "'#4286f4': 'rgb(66, 134, 244)',\n",
        "'#5905c6': 'rgb(89, 5, 198)',\n",
        "'#fce702': 'rgb(252, 231, 2)',\n",
        "'#ffffff': 'rgb(255, 255, 255)',\n",
        "'#000000': 'rgb(0, 0, 0)',\n",
        "'#0ac913': 'rgb(10, 201, 19)',\n",
        "'#65c672': 'rgb(101, 198, 114)',\n",
        "'#f8d6ff': 'rgb(248, 214, 255)',\n",
        "'#b70782': 'rgb(183, 7, 130)',\n",
        "'#001184': 'rgb(0, 17, 132)',\n",
        "'#495eed': 'rgb(73, 94, 237)',\n",
        "'#b7ffb8': 'rgb(183, 255, 184)',\n",
        "'#ffbf00': 'rgb(255, 191, 0)',\n",
        "'#7a020e': 'rgb(122, 2, 14)',\n",
        "'#ff5e6e': 'rgb(255, 94, 110)',\n",
        "'#22003d': 'rgb(34, 0, 61)'\n",
        "}\n",
        "\n",
        "def rgb_hex(some_color = None, rgb_value = None):\n",
        "\n",
        "  if(isinstance(some_color, str) and len(some_color) == 7):\n",
        "    color = some_color\n",
        "    return color_conversions[color]\n",
        "  elif(isinstance(rgb_value, str)):\n",
        "    rgb_colors = dict(zip(color_conversions.values(), color_conversions.keys()))\n",
        "    return (rgb_colors[rgb_value])\n",
        "\n",
        "if(rgb_hex(some_color =\"#b7ffb8\") is not None):\n",
        "  print(rgb_hex(some_color = \"#b7ffb8\"))\n",
        "\n",
        "rgb_hex(rgb_value = 'rgb(34, 0, 61)')\n"
      ],
      "execution_count": 36,
      "outputs": [
        {
          "output_type": "stream",
          "text": [
            "rgb(183, 255, 184)\n"
          ],
          "name": "stdout"
        },
        {
          "output_type": "execute_result",
          "data": {
            "text/plain": [
              "'#22003d'"
            ]
          },
          "metadata": {
            "tags": []
          },
          "execution_count": 36
        }
      ]
    },
    {
      "cell_type": "markdown",
      "metadata": {
        "id": "AQVD0N7BNezC",
        "colab_type": "text"
      },
      "source": [
        "\n",
        "\n",
        "## MATH\n",
        "\n",
        "\n"
      ]
    },
    {
      "cell_type": "markdown",
      "metadata": {
        "id": "bmEK7PmRN1Fu",
        "colab_type": "text"
      },
      "source": [
        "### P1.PY"
      ]
    },
    {
      "cell_type": "code",
      "metadata": {
        "id": "oMKX0HrfNezD",
        "colab_type": "code",
        "colab": {
          "base_uri": "https://localhost:8080/",
          "height": 34
        },
        "outputId": "cd85c78e-fecc-4393-924f-ae66adb6a270"
      },
      "source": [
        "\"\"\"\n",
        "Simple Interest Calculator\n",
        "\"\"\"\n",
        "\n",
        "# Write a function called \"simple_interest\" that will allow a user to find out how much they will have in savings based on their current funds and an interest rate. \n",
        "# (Instead of collecting user input, you can directly pass values of your choosing for the arguments.)\n",
        "\n",
        "# The formula for simple interest is...\n",
        "# A = P(1 + rt), where...\n",
        "# P = principal amount of money\n",
        "# r = interest rate\n",
        "# t = number of time periods the principal will earn interest\n",
        "\n",
        "def simple_interest(principal:int, interest_rate:int, time:int) -> float:\n",
        "  return principal*(1 + ((interest_rate/100) * time))\n",
        "\n",
        "print(simple_interest(100, 2, 6))\n"
      ],
      "execution_count": 39,
      "outputs": [
        {
          "output_type": "stream",
          "text": [
            "112.00000000000001\n"
          ],
          "name": "stdout"
        }
      ]
    },
    {
      "cell_type": "markdown",
      "metadata": {
        "id": "7ScSNwjINezF",
        "colab_type": "text"
      },
      "source": [
        "\n",
        "\n",
        "### P2.PY\n",
        "\n",
        "\n"
      ]
    },
    {
      "cell_type": "code",
      "metadata": {
        "id": "YwFx8wHsNezG",
        "colab_type": "code",
        "colab": {
          "base_uri": "https://localhost:8080/",
          "height": 51
        },
        "outputId": "99bc0143-5aa3-468a-d766-8d979c74d9a0"
      },
      "source": [
        "\"\"\"\n",
        "Permutations & Combinations\n",
        "\"\"\"\n",
        "\n",
        "# Create two functions:\n",
        "\t# One called \"perms\", which outputs the **number** of possible **permutations** of rolling two 6-sided dice and assign it to a variable called \"permutations\".\n",
        "\t# One called \"combs\", which outputs the **number** of possible **combinations** of rolling two 6-sided dice and assigns it to a variable called \"combinations\".\n",
        "\t# Hint: The formulas for these are below, where n is the number of possible outcomes for one trial and r is the number of outcomes you will pick at a time. \n",
        "\t#The contextual difference is that order matters for permutations, meaning the same two numbers in a different order count as two unique permutations. For combinations, the order doesn't matter.\n",
        "\n",
        "# permutation formula = n! / (n-r)!\n",
        "# combination formula = n! / (nâr)!r!\n",
        "import math \n",
        "\n",
        "def perms(n:int, r:int):\n",
        "\treturn math.factorial(n) / math.factorial(n-r)\n",
        "\n",
        "\n",
        "def combs(n:int, r:int):\n",
        "\t\treturn math.factorial(n) / (math.factorial(r) * math.factorial(n-r))\n",
        "\n",
        "permutations = perms(6, 2)\n",
        "combinations = combs(6, 2)\n",
        "\n",
        "print(permutations)\n",
        "print(combinations)"
      ],
      "execution_count": 43,
      "outputs": [
        {
          "output_type": "stream",
          "text": [
            "30.0\n",
            "15.0\n"
          ],
          "name": "stdout"
        }
      ]
    },
    {
      "cell_type": "markdown",
      "metadata": {
        "id": "7bTNjBy_NezI",
        "colab_type": "text"
      },
      "source": [
        "\n",
        "\n",
        "### P3.PY\n",
        "\n",
        "\n"
      ]
    },
    {
      "cell_type": "code",
      "metadata": {
        "id": "NC2JU5p1NezI",
        "colab_type": "code",
        "colab": {
          "base_uri": "https://localhost:8080/",
          "height": 51
        },
        "outputId": "bb4ff09d-a5b2-4651-85b9-ebb263374372"
      },
      "source": [
        "\"\"\"\n",
        "Multiples\n",
        "\"\"\"\n",
        "\n",
        "# Write a function called \"sum_multiples\" that take two numbers and returns the sum of their multiples between 0 and some limit. These three items should be generalized as parameters.\n",
        "\n",
        "def sum_multiples(num1:int, num2:int, limit:int) -> int:\n",
        "  lst1 = list(range(0,limit+1,num1))\n",
        "  # print(lst1)\n",
        "  lst2 = list(range(0,limit+1,num2))\n",
        "  # print(lst2)\n",
        "\n",
        "  lst1.extend(lst2)\n",
        "  print(f\"Multiples are {lst1}\")\n",
        "  return sum(lst1)\n",
        "\n",
        "print(f\"The sum of them is: {sum_multiples(4, 8, 8)}\")"
      ],
      "execution_count": 58,
      "outputs": [
        {
          "output_type": "stream",
          "text": [
            "Multiples are [0, 4, 8, 0, 8]\n",
            "The sum of them is: 20\n"
          ],
          "name": "stdout"
        }
      ]
    },
    {
      "cell_type": "markdown",
      "metadata": {
        "id": "ARbsmw_mNezL",
        "colab_type": "text"
      },
      "source": [
        "## DATA_MANIPULATION\n",
        "\n",
        "\n"
      ]
    },
    {
      "cell_type": "markdown",
      "metadata": {
        "id": "wTd0ZSSeN4Y8",
        "colab_type": "text"
      },
      "source": [
        "### P1.PY"
      ]
    },
    {
      "cell_type": "code",
      "metadata": {
        "id": "iUq-vFf2NezM",
        "colab_type": "code",
        "colab": {
          "base_uri": "https://localhost:8080/",
          "height": 34
        },
        "outputId": "3481223d-844b-4ea5-90c0-1eda1e5957af"
      },
      "source": [
        "\"\"\"\n",
        "File Organization\n",
        "\"\"\"\n",
        "\n",
        "# The dict \"files\" below contains file names and the name of the person who owns each file. Write and call a function to reorganize \"files\" such that it contains each person's name and the files he/she owns. Assign the resultant dict to a new dict called \"grouped_by_owner\". Print out the key value pairs in this format - key: value.\n",
        "\n",
        "# Function name should be: group_by_owners\n",
        "# Dict of results should be named: files_by_owner\n",
        "\n",
        "files = {\n",
        "  'Input1.txt': 'Beau',\n",
        "  'Code1.py': 'Mischa',\n",
        "  'Output1.txt': 'Beau',\n",
        "  'Input2.txt': 'Beau',\n",
        "  'Code2.py': 'Mischa',\n",
        "  'Output2.txt': 'Beau',\n",
        "  'Input3.txt': 'Percy',\n",
        "  'Code3.py': 'Alejandra',\n",
        "  'Output3.txt': 'Percy'\n",
        "}\n",
        "\n",
        "def files_owned(files: dict):\n",
        "  people = {}\n",
        "  for file, person in files.items():\n",
        "    if(person in people):\n",
        "      people[person].append(file)\n",
        "    else: \n",
        "      people[person] = [file]\n",
        "  print(people)\n",
        "\n",
        "files_owned(files)\n",
        "\n"
      ],
      "execution_count": 61,
      "outputs": [
        {
          "output_type": "stream",
          "text": [
            "{'Beau': ['Input1.txt', 'Output1.txt', 'Input2.txt', 'Output2.txt'], 'Mischa': ['Code1.py', 'Code2.py'], 'Percy': ['Input3.txt', 'Output3.txt'], 'Alejandra': ['Code3.py']}\n"
          ],
          "name": "stdout"
        }
      ]
    },
    {
      "cell_type": "markdown",
      "metadata": {
        "id": "-7KFDG5lNezO",
        "colab_type": "text"
      },
      "source": [
        "\n",
        "\n",
        "### P2.PY\n",
        "\n",
        "\n"
      ]
    },
    {
      "cell_type": "code",
      "metadata": {
        "id": "S5e9s-njNezP",
        "colab_type": "code",
        "colab": {
          "base_uri": "https://localhost:8080/",
          "height": 34
        },
        "outputId": "9d4f1b80-5f41-45f3-fb30-ba7abcd53d8c"
      },
      "source": [
        "\"\"\"\n",
        "Clean Pairs\n",
        "\"\"\"\n",
        "\n",
        "# Below is a list of common food pairings. Write a function called \"cleaner\" that cleans the data such that each list item is a tuple (e.g. ('Milk', 'Cookies')). Assign the results to a variable called \"clean_pairs\".\n",
        "\n",
        "pairs = [('Milk', 'Cookies'), ('Peanut Butter - Jelly'), ('Spaghetti & Meatballs'), ('Eggs', 'Bacon'), ('Pancakes & Syrup'), ('Chicken - Waffles'), ('Peas', 'Carrots')]\n",
        "import re\n",
        "def cleaner(paris:list):\n",
        "  tmpList = []\n",
        "  for entry in pairs:\n",
        "    if(isinstance(entry, tuple)): \n",
        "      tmpList.append(entry)\n",
        "    elif(isinstance(entry, str)):\n",
        "      tmpList.append(tuple(re.split(' - | & ', entry)))\n",
        "  return tmpList\n",
        "\n",
        "output = cleaner(pairs)\n",
        "print(output)"
      ],
      "execution_count": 78,
      "outputs": [
        {
          "output_type": "stream",
          "text": [
            "[('Milk', 'Cookies'), ('Peanut Butter', 'Jelly'), ('Spaghetti', 'Meatballs'), ('Eggs', 'Bacon'), ('Pancakes', 'Syrup'), ('Chicken', 'Waffles'), ('Peas', 'Carrots')]\n"
          ],
          "name": "stdout"
        }
      ]
    },
    {
      "cell_type": "markdown",
      "metadata": {
        "id": "E39dQ-pONezT",
        "colab_type": "text"
      },
      "source": [
        "\n",
        "\n",
        "### P3.PY\n",
        "\n",
        "\n"
      ]
    },
    {
      "cell_type": "code",
      "metadata": {
        "id": "b6qFJuFfNezT",
        "colab_type": "code",
        "colab": {
          "base_uri": "https://localhost:8080/",
          "height": 68
        },
        "outputId": "47b123a4-39fd-4195-c6e3-21c3da7588a5"
      },
      "source": [
        "\"\"\"\n",
        "Password Requirements\n",
        "\"\"\"\n",
        "\n",
        "# Write a Python program called \"pw_validator\" to validate a password based on the security requirements outlined below.\n",
        "\n",
        "# VALIDATION REQUIREMENTS:\n",
        "## At least 1 lowercase letter [a-z]\n",
        "## At least 1 uppercase letter [A-Z].\n",
        "## At least 1 number [0-9].\n",
        "## At least 1 special character [~!@#$%&*].\n",
        "## Min length 6 characters.\n",
        "## Max length 16 characters.\n",
        "import re\n",
        "\n",
        "def pw_validator(password: str): \n",
        "  if(len(password) <= 6 and len(password) >= 16):\n",
        "    return False\n",
        "  elif not re.search(\"[a-z]\", password):\n",
        "    return False\n",
        "  elif not re.search(\"[A-Z]\", password):\n",
        "    return False\n",
        "  elif not re.search(\"[0-9]\", password):\n",
        "    return False\n",
        "  elif not re.search(\"[~!@#$%&*]\", password):\n",
        "    return False\n",
        "  else:\n",
        "    return True\n",
        "\n",
        "print(pw_validator(\"ABCDEF\"))\n",
        "print(pw_validator(\"ABC\"))\n",
        "print(pw_validator(\"Ab0!tyyy\"))"
      ],
      "execution_count": 84,
      "outputs": [
        {
          "output_type": "stream",
          "text": [
            "False\n",
            "False\n",
            "True\n"
          ],
          "name": "stdout"
        }
      ]
    },
    {
      "cell_type": "markdown",
      "metadata": {
        "id": "X8kPjts_NezV",
        "colab_type": "text"
      },
      "source": [
        "\n",
        "\n",
        "### P4.PY\n",
        "\n",
        "\n"
      ]
    },
    {
      "cell_type": "code",
      "metadata": {
        "id": "AucIC9Z8NezW",
        "colab_type": "code",
        "colab": {
          "base_uri": "https://localhost:8080/",
          "height": 34
        },
        "outputId": "7633a71d-fdf1-4d22-a0e0-8def3a86c1f4"
      },
      "source": [
        "\"\"\"\n",
        "Rainbows & Wobniars\n",
        "\"\"\"\n",
        "\n",
        "# Write a function called \"wobniar\", which should contain the local variable \"rainbow\" below. The function should collect every other color of the rainbow starting at \n",
        "# index 0 and add each one to a new list. When you add each color, it should be spelled backwards. For example, the word 'sing' would be added to the new list as 'gnis'. Return and print the list.\n",
        "\n",
        "print(\"There's a missing variable for this question, so can't do it right now\")\n"
      ],
      "execution_count": 93,
      "outputs": [
        {
          "output_type": "stream",
          "text": [
            "There's a missing variable for this question, so can't do it right now\n"
          ],
          "name": "stdout"
        }
      ]
    },
    {
      "cell_type": "markdown",
      "metadata": {
        "id": "4gyJyWF1Nezc",
        "colab_type": "text"
      },
      "source": [
        "\n",
        "\n",
        "### P5.PY\n",
        "\n",
        "\n"
      ]
    },
    {
      "cell_type": "code",
      "metadata": {
        "id": "aW8b7Bk_Neze",
        "colab_type": "code",
        "colab": {
          "base_uri": "https://localhost:8080/",
          "height": 629
        },
        "outputId": "fa733b1f-e389-4251-d8c6-f66a756af918"
      },
      "source": [
        "\"\"\"\n",
        "Speeding Tickets\n",
        "\"\"\"\n",
        "\n",
        "# Imagine you're a cop waiting on the side of the road to pick up speeders. Write a function called \"speeders\" to check the speed of drivers and record their license plate numbers.\n",
        "## If speed is less than or equal 70 (mph), it should print \"Good\". \n",
        "## If the speed is greater than 70, find the license plate number of that driver in your \"driver_points\" dict (see below) and add a point to their license for every 5 full mph above the speed limit.\n",
        "## If at any point that driver has 12 or more points on his/her license, print \"License Suspended\".\n",
        "## Call the function on each driver in the \"passing_cars\" dict below to see difference use cases work.\n",
        "\n",
        "# p.s. Feel free to move these around in your code as needed.\n",
        "passing_cars = { # license plate nums & speed\n",
        "  '4GRONPH': 68,\n",
        "  'OJGL6WD': 82,\n",
        "  'Q5517FA': 70,\n",
        "  'S0PNWEJ': 95,\n",
        "  'RM23RXC': 64,\n",
        "  'KH5TH8D': 100,\n",
        "  'IHEHJ4P': 67,\n",
        "  'SVK90LT': 73,\n",
        "  'LJSV4N1': 88,\n",
        "  'KDRLGXM': 91\n",
        "}\n",
        "\n",
        "driver_points = { # license plate nums & points\n",
        "  '4GRONPH': 8,\n",
        "  'OJGL6WD': 12,\n",
        "  'Q5517FA': 1,\n",
        "  'S0PNWEJ': 2,\n",
        "  'RM23RXC': 6,\n",
        "  'KH5TH8D': 7,\n",
        "  'IHEHJ4P': 10,\n",
        "  'SVK90LT': 5,\n",
        "  'LJSV4N1': 3,\n",
        "  'KDRLGXM': 9\n",
        "  }\n",
        "\n",
        "\n",
        "def speeders(license_number:str, speed:int):\n",
        "  if(speed <= 70):\n",
        "    print(f\"{license_number} Good\")\n",
        "  else:\n",
        "    while(speed > 70):\n",
        "      # print(f\"Num before {driver_points[licenseNumber]}\")\n",
        "      driver_points[license_number] += 1\n",
        "      print(f\"{license_number} Added points\")\n",
        "      # print(f\"Num after {driver_points[licenseNumber]}\")\n",
        "      if(driver_points[license_number] >= 12):\n",
        "        print(f\"{license_number} License Suspended\")\n",
        "      speed -= 5\n",
        "\n",
        "\n",
        "for license_plate, speed in passing_cars.items():\n",
        "  speeders(license_plate, speed)"
      ],
      "execution_count": 100,
      "outputs": [
        {
          "output_type": "stream",
          "text": [
            "4GRONPH Good\n",
            "OJGL6WD Added points\n",
            "OJGL6WD License Suspended\n",
            "OJGL6WD Added points\n",
            "OJGL6WD License Suspended\n",
            "OJGL6WD Added points\n",
            "OJGL6WD License Suspended\n",
            "Q5517FA Good\n",
            "S0PNWEJ Added points\n",
            "S0PNWEJ Added points\n",
            "S0PNWEJ Added points\n",
            "S0PNWEJ Added points\n",
            "S0PNWEJ Added points\n",
            "RM23RXC Good\n",
            "KH5TH8D Added points\n",
            "KH5TH8D Added points\n",
            "KH5TH8D Added points\n",
            "KH5TH8D Added points\n",
            "KH5TH8D Added points\n",
            "KH5TH8D License Suspended\n",
            "KH5TH8D Added points\n",
            "KH5TH8D License Suspended\n",
            "IHEHJ4P Good\n",
            "SVK90LT Added points\n",
            "LJSV4N1 Added points\n",
            "LJSV4N1 Added points\n",
            "LJSV4N1 Added points\n",
            "LJSV4N1 Added points\n",
            "KDRLGXM Added points\n",
            "KDRLGXM Added points\n",
            "KDRLGXM Added points\n",
            "KDRLGXM License Suspended\n",
            "KDRLGXM Added points\n",
            "KDRLGXM License Suspended\n",
            "KDRLGXM Added points\n",
            "KDRLGXM License Suspended\n"
          ],
          "name": "stdout"
        }
      ]
    }
  ]
}