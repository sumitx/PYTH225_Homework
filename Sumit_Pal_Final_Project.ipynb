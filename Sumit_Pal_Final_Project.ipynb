{
  "nbformat": 4,
  "nbformat_minor": 0,
  "metadata": {
    "colab": {
      "name": "Sumit Pal - Final Project.ipynb",
      "provenance": [],
      "collapsed_sections": [],
      "toc_visible": true,
      "authorship_tag": "ABX9TyNq8k5aEKkOM3FeR4tArwTT",
      "include_colab_link": true
    },
    "kernelspec": {
      "name": "python3",
      "display_name": "Python 3"
    }
  },
  "cells": [
    {
      "cell_type": "markdown",
      "metadata": {
        "id": "view-in-github",
        "colab_type": "text"
      },
      "source": [
        "<a href=\"https://colab.research.google.com/github/sumitx/PYTH225_Homework/blob/master/Sumit_Pal_Final_Project.ipynb\" target=\"_parent\"><img src=\"https://colab.research.google.com/assets/colab-badge.svg\" alt=\"Open In Colab\"/></a>"
      ]
    },
    {
      "cell_type": "markdown",
      "metadata": {
        "id": "UPCXTR-L5jHC",
        "colab_type": "text"
      },
      "source": [
        "# Problem Statement\n",
        "This project analyses video games sales over the past several years to uncover trends in Genre popularity on a global basis \n",
        "\n",
        "# Hypothesis\n",
        "Due to the rise of eSports, the expanded depth and breadth of open world games, and general media buzz the highest number of video games sales over time should trend towards Shooters and Action RPGs\n",
        "\n",
        "#Data Description\n",
        "The data for this project was found through a user uploaded set on Kaggle. I went this data source since it was the most recently updated set, so it should provide the accurate publically available data. \n",
        "\n",
        "**Note**: The data set I've used here is actually built upon an original data set, which is no longer maintained. The appropriate credit is given on Kaggle\n",
        "\n",
        "#Data Dictionary\n",
        "Rank - Ranking of overall sales\n",
        "\n",
        "Name - The games name\n",
        "\n",
        "Platform - Platform of the games release (i.e. PC,PS4, etc.)\n",
        "\n",
        "Year - Year of the game's release\n",
        "\n",
        "Genre - Genre of the game\n",
        "\n",
        "Publisher - Publisher of the game\n",
        "\n",
        "NA_Sales - Sales in North America (in millions)\n",
        "\n",
        "EU_Sales - Sales in Europe (in millions)\n",
        "\n",
        "JP_Sales - Sales in Japan (in millions)\n",
        "\n",
        "Other_Sales - Sales in the rest of the world (in millions)\n",
        "\n",
        "Global_Sales - Total worldwide sales.\n",
        "\n",
        "Critic_score - Aggregate score compiled by Metacritic staff\n",
        "\n",
        "Criticcount - The number of critics used in coming up with the critic score \n",
        "\n",
        "User_score - Score by Metacritic's subscribers\n",
        "\n",
        "Usercount - Number of users who gave the userscore\n",
        "\n",
        "Developer - Party responsible for creating the game\n",
        "\n",
        "Rating - The ESRB ratings\n",
        "\n",
        "Source: https://www.kaggle.com/mohalim/video-games-sales"
      ]
    },
    {
      "cell_type": "code",
      "metadata": {
        "id": "OsbvTsv27xTc",
        "colab_type": "code",
        "colab": {}
      },
      "source": [
        "#Imported libraries\n",
        "import pandas as pd\n",
        "import numpy as np\n",
        "import matplotlib.pyplot as plt\n",
        "%matplotlib inline"
      ],
      "execution_count": 0,
      "outputs": []
    },
    {
      "cell_type": "markdown",
      "metadata": {
        "id": "r2k-oyDS79fr",
        "colab_type": "text"
      },
      "source": [
        "Once we've imported our libaries, we should begin by reading our data in. The file is available locally as a CSV"
      ]
    },
    {
      "cell_type": "code",
      "metadata": {
        "id": "sAKHNfrK8GLW",
        "colab_type": "code",
        "colab": {
          "base_uri": "https://localhost:8080/",
          "height": 34
        },
        "outputId": "4aa30c49-b519-4dc3-a651-6182d6df231b"
      },
      "source": [
        "#Read in the data\n",
        "vgsales = pd.read_csv('vgsales.csv')\n",
        "game_sales = vgsales.copy()\n",
        "print('Data loaded successfully!')"
      ],
      "execution_count": 237,
      "outputs": [
        {
          "output_type": "stream",
          "text": [
            "Data loaded successfully!\n"
          ],
          "name": "stdout"
        }
      ]
    },
    {
      "cell_type": "markdown",
      "metadata": {
        "id": "KMSh_Y-i8QxT",
        "colab_type": "text"
      },
      "source": [
        "Next we need to cleanup our data set\n",
        "\n",
        "We start by removing columns we don't need. Then we replace values that are None with more appropriate placeholders"
      ]
    },
    {
      "cell_type": "code",
      "metadata": {
        "id": "cGwvEfG-9P0M",
        "colab_type": "code",
        "colab": {}
      },
      "source": [
        "'''\n",
        "Cleaning up data\n",
        "'''\n",
        "#Remove columns we don't need\n",
        "game_sales.drop(columns=['Critic_Count', 'Critic_Score', 'User_Score', 'User_Count', 'Rating', 'Publisher'], inplace=True)\n",
        "\n",
        "# Set max_columns to the total num of columns we have, so they'll display\n",
        "pd.set_option('display.max_columns', len(game_sales.columns))\n",
        "\n",
        "#Remove null values\n",
        "game_sales['NA_Sales'].fillna(0, inplace=True)\n",
        "game_sales['EU_Sales'].fillna(0, inplace=True)\n",
        "game_sales['JP_Sales'].fillna(0, inplace=True)\n",
        "game_sales['Other_Sales'].fillna(0, inplace=True)\n",
        "game_sales['Global_Sales'].fillna(0, inplace=True)\n",
        "game_sales['Genre'].fillna(\"Unknown\", inplace=True)\n",
        "game_sales['Developer'].fillna(\"Unknown\", inplace=True)\n",
        "\n",
        "#For our dataset we need to know the year of release, so lets select all entries with a year provided\n",
        "game_sales = game_sales[pd.notnull(game_sales['Year_of_Release'])]\n",
        "\n",
        "#Cast years to ints\n",
        "game_sales['Year_of_Release'] = game_sales['Year_of_Release'].astype('int64')"
      ],
      "execution_count": 0,
      "outputs": []
    },
    {
      "cell_type": "markdown",
      "metadata": {
        "id": "MM2wmO1F9LHc",
        "colab_type": "text"
      },
      "source": [
        "Next let's filter down the data that we have, so we can analyze it more closely"
      ]
    },
    {
      "cell_type": "code",
      "metadata": {
        "id": "JqY5hM919wAe",
        "colab_type": "code",
        "colab": {
          "base_uri": "https://localhost:8080/",
          "height": 34
        },
        "outputId": "3fa07fe3-d75c-4631-dec0-29a2d038df02"
      },
      "source": [
        "#Grab titles from only the most recent years:\n",
        "#Data set jumps form 2017 to 2020, so going to include a few years prior\n",
        "game_sales = game_sales[(game_sales['Year_of_Release'] >= 2013) & (game_sales['Year_of_Release'] <= 2020)]\n",
        "\n",
        "#Check for any duplicate rows\n",
        "num_dup_titles = game_sales.duplicated(subset=['Name']).sum()\n",
        "print(f\"There are {num_dup_titles} duplicate titles\")"
      ],
      "execution_count": 288,
      "outputs": [
        {
          "output_type": "stream",
          "text": [
            "There are 971 duplicate titles\n"
          ],
          "name": "stdout"
        }
      ]
    },
    {
      "cell_type": "markdown",
      "metadata": {
        "id": "_IYKfyT6HnUS",
        "colab_type": "text"
      },
      "source": [
        "There are duplicates! This was initially a concern until I considered that it might actually be okay.\n",
        "\n",
        "When we group by year and genre, all platforms will be taken into consideration at the end (Xbox, PS4, etc); therefore, we did not need to do further grouping or any deduping in this instance\n",
        "\n",
        "Dedupliction would only have removed valuable sales data"
      ]
    },
    {
      "cell_type": "code",
      "metadata": {
        "id": "h5erBBftJbIr",
        "colab_type": "code",
        "colab": {
          "base_uri": "https://localhost:8080/",
          "height": 918
        },
        "outputId": "12f39b0c-dac1-49ba-c596-5cd3f54bdd11"
      },
      "source": [
        "#Combined Dataset\n",
        "#This is here to serve as a reference for the conclusions we draw later and to help verify numbers on our graphs\n",
        "\n",
        "#Break down the results by total units sold by year and genre\n",
        "sales_overall = game_sales.groupby(['Year_of_Release', \"Genre\"])['Global_Sales'].sum()\n",
        "print(sales_overall)\n"
      ],
      "execution_count": 291,
      "outputs": [
        {
          "output_type": "stream",
          "text": [
            "Year_of_Release  Genre       \n",
            "2013.0           Action          98.48\n",
            "                 Adventure        5.02\n",
            "                 Fighting         6.44\n",
            "                 Misc            25.01\n",
            "                 Platform        23.49\n",
            "                 Puzzle           0.95\n",
            "                 Racing          12.27\n",
            "                 Role-Playing    29.21\n",
            "                 Shooter         61.51\n",
            "                 Simulation       3.37\n",
            "                 Sports          37.74\n",
            "                 Strategy         5.37\n",
            "2014.0           Action          93.59\n",
            "                 Adventure        5.41\n",
            "                 Fighting        15.83\n",
            "                 Misc            18.56\n",
            "                 Platform         8.78\n",
            "                 Puzzle           1.49\n",
            "                 Racing          16.64\n",
            "                 Role-Playing    44.11\n",
            "                 Shooter         63.62\n",
            "                 Simulation       5.59\n",
            "                 Sports          43.29\n",
            "                 Strategy         0.99\n",
            "2015.0           Action          70.53\n",
            "                 Adventure        7.34\n",
            "                 Fighting         7.62\n",
            "                 Misc             9.04\n",
            "                 Platform         6.02\n",
            "                 Puzzle           0.69\n",
            "                 Racing           7.78\n",
            "                 Role-Playing    32.35\n",
            "                 Shooter         65.09\n",
            "                 Simulation       5.62\n",
            "                 Sports          37.22\n",
            "                 Strategy         1.75\n",
            "2016.0           Action          28.06\n",
            "                 Adventure        3.77\n",
            "                 Fighting         4.44\n",
            "                 Misc             2.58\n",
            "                 Platform         3.21\n",
            "                 Puzzle           0.01\n",
            "                 Racing           2.83\n",
            "                 Role-Playing    17.31\n",
            "                 Shooter         37.86\n",
            "                 Simulation       1.88\n",
            "                 Sports          20.85\n",
            "                 Strategy         1.15\n",
            "2017.0           Action           0.01\n",
            "                 Role-Playing     0.05\n",
            "2020.0           Simulation       0.29\n",
            "Name: Global_Sales, dtype: float64\n"
          ],
          "name": "stdout"
        }
      ]
    },
    {
      "cell_type": "markdown",
      "metadata": {
        "id": "iynRWW7z9niG",
        "colab_type": "text"
      },
      "source": [
        "# Analysis\n",
        "\n",
        "Let's now plot the data per year, so we can identify any trends"
      ]
    },
    {
      "cell_type": "code",
      "metadata": {
        "id": "x45T0PW5HM0s",
        "colab_type": "code",
        "outputId": "400e4d62-4095-40d8-9d5d-c238f7788f9b",
        "colab": {
          "base_uri": "https://localhost:8080/",
          "height": 1000
        }
      },
      "source": [
        "fig, axes = plt.subplots(nrows=2, ncols=2, figsize=(25, 20))\n",
        "\n",
        "sales_2013 = game_sales[game_sales['Year_of_Release'] == 2013].groupby(\"Genre\")['Global_Sales'].sum()\n",
        "sales_2013.plot(ax=axes[0,0], kind='bar')\n",
        "axes[0, 0].set_title('Games sold in 2013 by Genre')\n",
        "axes[0, 0].set_ylabel('Number of Games (in millions)')\n",
        "\n",
        "sales_2014 = game_sales[game_sales['Year_of_Release'] == 2014].groupby(\"Genre\")['Global_Sales'].sum()\n",
        "sales_2014.plot(ax=axes[0,1], kind='bar')\n",
        "axes[0, 1].set_title('Games sold in 2014 by Genre')\n",
        "axes[0, 1].set_ylabel('Number of Games (in millions)')\n",
        "\n",
        "sales_2015 = game_sales[game_sales['Year_of_Release'] == 2015].groupby(\"Genre\")['Global_Sales'].sum()\n",
        "sales_2015.plot(ax=axes[1,0], kind='bar')\n",
        "axes[1, 0].set_title('Games sold in 2015 by Genre')\n",
        "axes[1, 0].set_ylabel('Number of Games (in millions)')\n",
        "\n",
        "sales_2016 = game_sales[game_sales['Year_of_Release'] == 2016].groupby(\"Genre\")['Global_Sales'].sum()\n",
        "sales_2016.plot(ax=axes[1,1],kind='bar')\n",
        "axes[1, 1].set_title('Games sold in 2016 by Genre')\n",
        "axes[1, 1].set_ylabel('Number of Games (in millions)')\n",
        "\n",
        "plt.show()"
      ],
      "execution_count": 281,
      "outputs": [
        {
          "output_type": "display_data",
          "data": {
            "image/png": "[encoded data removed]",
            "text/plain": [
              "<Figure size 1800x1440 with 4 Axes>"
            ]
          },
          "metadata": {
            "tags": [],
            "needs_background": "light"
          }
        }
      ]
    },
    {
      "cell_type": "markdown",
      "metadata": {
        "id": "pvYG3BTeH8Ak",
        "colab_type": "text"
      },
      "source": [
        "**Thoughts**:\n",
        "\n",
        "Based on the data trends we're seeing since 2013, it appears that shooters has seen the most growth in sales, followed by steady increases to RPGs \n",
        "\n",
        "We can also notice that during this time the number of units sold under the Action genre is on a steady decline\n",
        "\n",
        "The year 2016 is a bit of a rocky point because sales are down across the board, but the trends still seem to hold"
      ]
    },
    {
      "cell_type": "markdown",
      "metadata": {
        "id": "pK0T1DBkIsu2",
        "colab_type": "text"
      },
      "source": [
        "**Data outliers:**\n",
        "\n",
        "It looks like since 2017 our data becomes very inconsistent; therefore, I am not taking these results into consideration for our conclusion. \n",
        "\n",
        "For 2017 with only two genres represented and figures below 1 million the data doesn't seem to be very meaningful. This is magnified in the case of 2020 where only a single genre is captured"
      ]
    },
    {
      "cell_type": "code",
      "metadata": {
        "id": "cdoJ2petDETs",
        "colab_type": "code",
        "colab": {
          "base_uri": "https://localhost:8080/",
          "height": 364
        },
        "outputId": "abfd94a4-3a67-4ac6-ece8-b6df5bc4546a"
      },
      "source": [
        "sales_2017 = game_sales[game_sales['Year_of_Release'] == 2017].groupby(\"Genre\")['Global_Sales'].sum()\n",
        "sales_2017.plot(kind='bar')\n",
        "plt.title('Games sold in 2017 by Genre')\n",
        "plt.ylabel('Number of Games (in millions)')"
      ],
      "execution_count": 270,
      "outputs": [
        {
          "output_type": "execute_result",
          "data": {
            "text/plain": [
              "Text(0, 0.5, 'Number of Games (in millions)')"
            ]
          },
          "metadata": {
            "tags": []
          },
          "execution_count": 270
        },
        {
          "output_type": "display_data",
          "data": {
            "image/png": "[encoded data removed]",
            "text/plain": [
              "<Figure size 432x288 with 1 Axes>"
            ]
          },
          "metadata": {
            "tags": [],
            "needs_background": "light"
          }
        }
      ]
    },
    {
      "cell_type": "code",
      "metadata": {
        "id": "g65IICtWDs__",
        "colab_type": "code",
        "colab": {
          "base_uri": "https://localhost:8080/",
          "height": 356
        },
        "outputId": "1cdb5d6c-b37f-4637-fc68-c9b797613e51"
      },
      "source": [
        "sales_2020 = game_sales[game_sales['Year_of_Release'] == 2020].groupby(\"Genre\")['Global_Sales'].sum()\n",
        "sales_2020.plot(kind='bar')\n",
        "plt.title('Games sold in 2020 by Genre')\n",
        "plt.ylabel('Number of Games (in millions)')"
      ],
      "execution_count": 271,
      "outputs": [
        {
          "output_type": "execute_result",
          "data": {
            "text/plain": [
              "Text(0, 0.5, 'Number of Games (in millions)')"
            ]
          },
          "metadata": {
            "tags": []
          },
          "execution_count": 271
        },
        {
          "output_type": "display_data",
          "data": {
            "image/png": "[encoded data removed]",
            "text/plain": [
              "<Figure size 432x288 with 1 Axes>"
            ]
          },
          "metadata": {
            "tags": [],
            "needs_background": "light"
          }
        }
      ]
    },
    {
      "cell_type": "markdown",
      "metadata": {
        "id": "U5Iig7ncJ0-G",
        "colab_type": "text"
      },
      "source": [
        "# Conclusion\n",
        "\n",
        "Based on the year over year data, and without taking into consideration any of the data anomalies, it appears as thought my hypothesis was correct in that Shoorters and RPGs have grown over time. \n",
        "\n",
        "I was not expecting Action games to have as many sales as they did, but this could be due to the classification of games becoming more granular overtime, but also a shift in consumer appetite \n",
        "\n",
        "It was rather unfortuante that the dataset which Kaggle reported as being updated about one month ago 3/2020 doesn't include more recent data to draw conclusions from though\n",
        "\n",
        "Future steps here would be to try to incorporate more recent data, so we can get a complete picture on how these trends have evolved over time"
      ]
    }
  ]
}