{
  "nbformat": 4,
  "nbformat_minor": 0,
  "metadata": {
    "colab": {
      "name": "Sumit conditionals_psets.ipynb",
      "provenance": [],
      "collapsed_sections": [
        "gijpYMCLV00L"
      ],
      "include_colab_link": true
    },
    "kernelspec": {
      "name": "python3",
      "display_name": "Python 3"
    }
  },
  "cells": [
    {
      "cell_type": "markdown",
      "metadata": {
        "id": "view-in-github",
        "colab_type": "text"
      },
      "source": [
        "<a href=\"https://colab.research.google.com/github/sumitx/PYTH225_Homework/blob/master/Sumit_conditionals_psets.ipynb\" target=\"_parent\"><img src=\"https://colab.research.google.com/assets/colab-badge.svg\" alt=\"Open In Colab\"/></a>"
      ]
    },
    {
      "cell_type": "markdown",
      "metadata": {
        "id": "FiL9pv11VtnR",
        "colab_type": "text"
      },
      "source": [
        "#  CONDITIONALS\n",
        "\n",
        "\n"
      ]
    },
    {
      "cell_type": "markdown",
      "metadata": {
        "id": "gijpYMCLV00L",
        "colab_type": "text"
      },
      "source": [
        "## WEATHER"
      ]
    },
    {
      "cell_type": "markdown",
      "metadata": {
        "id": "KL7ytXn4V2WB",
        "colab_type": "text"
      },
      "source": [
        "### P1.PY"
      ]
    },
    {
      "cell_type": "code",
      "metadata": {
        "id": "e32ChHBAVtnU",
        "colab_type": "code",
        "colab": {}
      },
      "source": [
        "\"\"\"\n",
        "Weather I - Do you need boots?\n",
        "\"\"\"\n",
        "\n",
        "# Use the values of the vars defined below to ouput the correct contextual answer to the questions below. (Note: The variables themselves ARE the questions.)\n",
        "\n",
        "# Example:\n",
        "## am_i_hungry = False\n",
        "## am_i_tired = True\n",
        "## do_i_need_to_stay_awake = False\n",
        "\n",
        "## should_i_drink_coffee_now = am_i_tired and do_i_need_to_stay_awake\n",
        "\n",
        "## ^^ This ^^ evaluates to False. If you're tired and don't need to stay awake, you don't need to drink coffee!\n",
        "\n",
        "\n",
        "is_it_raining = True\n",
        "is_it_snowing = False\n",
        "\n",
        "\n",
        "do_i_need_snow_boots = is_it_snowing\n",
        "can_i_skip_snow_boots = not is_it_snowing\n",
        "do_i_need_rain_boots = is_it_raining\n",
        "can_i_skip_rain_boots = not is_it_raining"
      ],
      "execution_count": 0,
      "outputs": []
    },
    {
      "cell_type": "markdown",
      "metadata": {
        "id": "t9cxGL-8VtnX",
        "colab_type": "text"
      },
      "source": [
        "\n",
        "\n",
        "### P2.PY\n",
        "\n",
        "\n"
      ]
    },
    {
      "cell_type": "code",
      "metadata": {
        "id": "y80DTzliVtnY",
        "colab_type": "code",
        "colab": {}
      },
      "source": [
        "\"\"\"\n",
        "Weather II - Precipitation\n",
        "\"\"\"\n",
        "\n",
        "# Repeat the same process as p1, using this new set of variables.\n",
        "\n",
        "sunny = True\n",
        "raining = True\n",
        "snowing = False\n",
        "\n",
        "is_it_sunny = sunny\n",
        "is_there_precipitation = raining or snowing\n",
        "is_it_sleeting = raining and snowing\n",
        "is_there_rainbow = sunny and raining"
      ],
      "execution_count": 0,
      "outputs": []
    },
    {
      "cell_type": "markdown",
      "metadata": {
        "id": "777sx1WCVtno",
        "colab_type": "text"
      },
      "source": [
        "\n",
        "\n",
        "### P3.PY\n",
        "\n",
        "\n"
      ]
    },
    {
      "cell_type": "code",
      "metadata": {
        "id": "9dNGqX2wVtnp",
        "colab_type": "code",
        "colab": {}
      },
      "source": [
        "\"\"\"\n",
        "Weather III - Describe Conditions\n",
        "\"\"\"\n",
        "\n",
        "# Repeat the same process as p1, using this new set of variables.\n",
        "\n",
        "\n",
        "is_it_warm = True\n",
        "is_it_humid = True\n",
        "is_it_cold = False\n",
        "is_it_icy = False\n",
        "is_it_foggy = False\n",
        "is_it_windy = False\n",
        "is_it_overcast = True\n",
        "\n",
        "\n",
        "is_it_summer_weather = None\n",
        "is_rain_coming = None\n",
        "is_it_muggy = None\n",
        "do_i_need_coat = None\n",
        "\n"
      ],
      "execution_count": 0,
      "outputs": []
    },
    {
      "cell_type": "markdown",
      "metadata": {
        "id": "c70y61m1Vtn3",
        "colab_type": "text"
      },
      "source": [
        "## LOGIC\n",
        "\n",
        "\n"
      ]
    },
    {
      "cell_type": "markdown",
      "metadata": {
        "id": "6IGtJU8oV5a8",
        "colab_type": "text"
      },
      "source": [
        "### P1.PY"
      ]
    },
    {
      "cell_type": "code",
      "metadata": {
        "id": "8dx3WRHBVtn4",
        "colab_type": "code",
        "outputId": "b88d6e61-6202-485d-a176-a009d8d5e825",
        "colab": {
          "base_uri": "https://localhost:8080/",
          "height": 34
        }
      },
      "source": [
        "\"\"\"\n",
        "Calculate Grade\n",
        "\"\"\"\n",
        "\n",
        "grade = 15  # expect this to be a number\n",
        "\n",
        "# write a program that will print the \"letter\"\n",
        "# equivalent of the grade, for example:\n",
        "# when grade = 90 # -> expect A\n",
        "# when grade = 80 # -> expect B\n",
        "# when grade = 70 # -> expect C\n",
        "# when grade = 60 # -> expect D\n",
        "# when grade = 54 # -> expect F\n",
        "# when grade = -10 # -> expect Error\n",
        "# when grade = 10000 # -> expect Error\n",
        "# when grade = \"lol skool sucks\" # -> expect Error\n",
        "\n",
        "# grade = 1000\n",
        "letter = \"\"\n",
        "if(grade == 90):\n",
        "    letter = \"A\"\n",
        "elif (grade == 80):\n",
        "  letter = \"B\"\n",
        "elif (grade == 70):\n",
        "  letter = \"C\"\n",
        "elif (grade == 60):\n",
        "  letter = \"D\"\n",
        "elif (grade == 54):\n",
        "  letter = \"F\"\n",
        "elif (grade == -10):\n",
        "  letter = \"Error\"\n",
        "elif (grade == 1000):\n",
        "  letter = \"Error\"\n",
        "elif(grade == \"lol skool sucks\"):\n",
        "  letter = \"Error\"\n",
        "\n",
        "print(letter)\n"
      ],
      "execution_count": 0,
      "outputs": [
        {
          "output_type": "stream",
          "text": [
            "Error\n"
          ],
          "name": "stdout"
        }
      ]
    },
    {
      "cell_type": "markdown",
      "metadata": {
        "id": "HLfJLQFKVtoK",
        "colab_type": "text"
      },
      "source": [
        "\n",
        "\n",
        "### P2.PY\n",
        "\n",
        "\n"
      ]
    },
    {
      "cell_type": "code",
      "metadata": {
        "id": "g3fT3CxqVtoO",
        "colab_type": "code",
        "colab": {}
      },
      "source": [
        "\"\"\"\n",
        "Sign of Product\n",
        "\"\"\"\n",
        "\n",
        "# Given three numbers, a, b, c, without multiplying, determine the sign of their product.\n",
        "\n",
        "# EXAMPLE: a = -5, b = 6, c = -4, print 1\n",
        "\n",
        "# EXAMPLE: a = 5, b = 6, c = -4, print -1\n",
        "a=0\n",
        "b=0\n",
        "c=0\n",
        "\n",
        "sign = \"\"\n",
        "if(a > 0):\n",
        "  if(b > 0 and c > 0):\n",
        "    sign = \"positive\"\n",
        "  else:\n",
        "    sign = \"negative\"\n",
        "else: \n",
        "  if(b < 0 and c < 0):\n",
        "    sign = \"negative\"\n",
        "  elif(b < 0 or c < 0):\n",
        "    sign = \"positive\"\n"
      ],
      "execution_count": 0,
      "outputs": []
    },
    {
      "cell_type": "markdown",
      "metadata": {
        "id": "eUuhYKriVtoS",
        "colab_type": "text"
      },
      "source": [
        "\n",
        "\n",
        "### P3.PY\n",
        "\n",
        "\n"
      ]
    },
    {
      "cell_type": "code",
      "metadata": {
        "id": "gtAMAAaYVtoT",
        "colab_type": "code",
        "outputId": "2c0255e5-a1a8-44c4-bef0-3d5c3bc62e56",
        "colab": {
          "base_uri": "https://localhost:8080/",
          "height": 34
        }
      },
      "source": [
        "\"\"\"\n",
        "Any Uppercase\n",
        "\"\"\"\n",
        "\n",
        "# Given a string str, determine if there are any uppercase values in it. Use only conditional statements and string methods (you may have to look some up!)\n",
        "\n",
        "# EXAMPLE: str = \"teSt\", print True\n",
        "\n",
        "someString = \"test\"\n",
        "isThereUpperCase = False\n",
        "\n",
        "for letter in someString:\n",
        "  if(letter.isupper()):\n",
        "      isThereUpperCase = True\n",
        "\n",
        "print(isThereUpperCase)"
      ],
      "execution_count": 0,
      "outputs": [
        {
          "output_type": "stream",
          "text": [
            "False\n"
          ],
          "name": "stdout"
        }
      ]
    },
    {
      "cell_type": "markdown",
      "metadata": {
        "id": "wG8CE6QTVtoW",
        "colab_type": "text"
      },
      "source": [
        "\n",
        "\n",
        "### P4.PY\n",
        "\n",
        "\n"
      ]
    },
    {
      "cell_type": "code",
      "metadata": {
        "id": "xZ5Mt4jSVtoX",
        "colab_type": "code",
        "outputId": "4c85507c-94f9-408d-e0f7-de7f3229b5d0",
        "colab": {
          "base_uri": "https://localhost:8080/",
          "height": 51
        }
      },
      "source": [
        "\"\"\"\n",
        "Empty Strings\n",
        "\"\"\"\n",
        "\n",
        "# Given any empty string, of the form:\n",
        "\n",
        "# ''\n",
        "# ' '\n",
        "# '  '\n",
        "# any other num of spaces...\n",
        "\n",
        "# determine if the str is empty or not (print True or False). Hint: You'll need to look up how to remove trailing spaces from a string.\n",
        "\n",
        "emptyString = \"    \"\n",
        "emptyString.rstrip()\n",
        "print(emptyString)\n",
        "if(emptyString == \"\"):\n",
        "  print(\"String is empty\")\n",
        "else:\n",
        "  print(\"String is not empty\")\n"
      ],
      "execution_count": 0,
      "outputs": [
        {
          "output_type": "stream",
          "text": [
            "\n",
            "String is empty\n"
          ],
          "name": "stdout"
        }
      ]
    },
    {
      "cell_type": "markdown",
      "metadata": {
        "id": "WlgQdALoVtof",
        "colab_type": "text"
      },
      "source": [
        "\n",
        "\n",
        "### P5.PY\n",
        "\n",
        "\n"
      ]
    },
    {
      "cell_type": "code",
      "metadata": {
        "id": "7_k9rebsVtog",
        "colab_type": "code",
        "colab": {
          "base_uri": "https://localhost:8080/",
          "height": 85
        },
        "outputId": "86a7aed8-5c4f-4c79-d8c4-df9d6edfcc34"
      },
      "source": [
        "\"\"\"\n",
        "truthTableEvaluator\n",
        "\"\"\"\n",
        "\n",
        "# Given the following inputs:\n",
        "\n",
        "\n",
        "# P = # True or False\n",
        "# Q = # True or False\n",
        "# op = # '^' (logical AND, conjunction)\n",
        "#      # OR, 'v' (logical OR, disjunction)\n",
        "#      # OR, '->' (logical conditional, implication) => \n",
        "#      # OR, '<->' (biconditional) <= and =>\n",
        "# determine the correct outcome.\n",
        "\n",
        "p = input(\"Is P True or False?\")\n",
        "q = input(\"Is Q True or False?\")\n",
        "op = input(\"What is your operation?\")\n",
        "\n",
        "result = None\n",
        "if(op == '^'):\n",
        "  result = p and q\n",
        "elif(op == 'v'):\n",
        "  result = p or q\n",
        "elif(op == '->'):\n",
        "  result = !p or q\n",
        "elif(op == '<-->'):\n",
        "  result = (p == 'F' and q == 'F') or (p == 'T' and q == 'T')\n",
        "\n",
        "print(result)\n",
        "\n",
        "# https://medium.com/i-math/intro-to-truth-tables-boolean-algebra-73b331dd9b94\n"
      ],
      "execution_count": 2,
      "outputs": [
        {
          "output_type": "stream",
          "text": [
            "Is P True or False?True\n",
            "Is Q True or False?False\n",
            "What is your operation?<-->\n",
            "False\n"
          ],
          "name": "stdout"
        }
      ]
    },
    {
      "cell_type": "markdown",
      "metadata": {
        "id": "zayFQdU7Vto2",
        "colab_type": "text"
      },
      "source": [
        "## RANDOM NUMBERS\n",
        "\n",
        "\n",
        "\n",
        "\n"
      ]
    },
    {
      "cell_type": "markdown",
      "metadata": {
        "id": "gtAK4fQAV9BC",
        "colab_type": "text"
      },
      "source": [
        "### P1.PY"
      ]
    },
    {
      "cell_type": "code",
      "metadata": {
        "id": "_dlFvP4QVto3",
        "colab_type": "code",
        "colab": {
          "base_uri": "https://localhost:8080/",
          "height": 34
        },
        "outputId": "a809e8f2-4383-478a-eba7-255bbbc689fb"
      },
      "source": [
        "\"\"\"\n",
        "Generate Traffic Light\n",
        "\"\"\"\n",
        "\n",
        "# import python randomint package\n",
        "from random import randint\n",
        "\n",
        "# generates a random number from 1 to 3\n",
        "someNumber = randint(1,3)\n",
        "\n",
        "# if 1, print 'red'\n",
        "if(someNumber == 1):\n",
        "  print('red')\n",
        "# if 2, print 'green',\n",
        "if(someNumber == 2):\n",
        "  print('green')\n",
        "# if 3, print 'yellow'\n",
        "if(someNumber == 3):\n",
        "  print('yellow')\n"
      ],
      "execution_count": 14,
      "outputs": [
        {
          "output_type": "stream",
          "text": [
            "yellow\n"
          ],
          "name": "stdout"
        }
      ]
    },
    {
      "cell_type": "markdown",
      "metadata": {
        "id": "nO0LSd8SVto5",
        "colab_type": "text"
      },
      "source": [
        "\n",
        "\n",
        "### P2.PY\n",
        "\n",
        "\n"
      ]
    },
    {
      "cell_type": "code",
      "metadata": {
        "id": "Dp5jFc2fVtpF",
        "colab_type": "code",
        "colab": {
          "base_uri": "https://localhost:8080/",
          "height": 85
        },
        "outputId": "269e724f-2709-49bd-e32f-032aae17e085"
      },
      "source": [
        "\"\"\"\n",
        "Generate Phone Number w/Area Code\n",
        "\"\"\"\n",
        "from random import randrange\n",
        "from random import choice\n",
        "# Generate a random phone number using these SPECS:\n",
        "### Should be a string in this format: 1-718-786-2825\n",
        "### Must randomly choose one of these area codes: 646, 718, 212\n",
        "randomNum1 = randrange(100,999)\n",
        "print(randomNum1)\n",
        "randomNum2 = randrange(1000,9999)\n",
        "print(randomNum2)\n",
        "firstNum = 1\n",
        "areaCode = choice(['646', '718', '212'])\n",
        "print(areaCode)\n",
        "\n",
        "print(str(firstNum) + \"-\" + str(areaCode) + \"-\" + str(randomNum1) + \"-\" + str(randomNum2))"
      ],
      "execution_count": 26,
      "outputs": [
        {
          "output_type": "stream",
          "text": [
            "932\n",
            "1100\n",
            "212\n",
            "1-212-932-1100\n"
          ],
          "name": "stdout"
        }
      ]
    },
    {
      "cell_type": "markdown",
      "metadata": {
        "id": "gRweE3nDVtpK",
        "colab_type": "text"
      },
      "source": [
        "## RPS\n",
        "\n",
        "\n"
      ]
    },
    {
      "cell_type": "markdown",
      "metadata": {
        "id": "IFUwrDumV_Vn",
        "colab_type": "text"
      },
      "source": [
        "### P1.PY"
      ]
    },
    {
      "cell_type": "code",
      "metadata": {
        "id": "sYTmAYzDVtpL",
        "colab_type": "code",
        "colab": {
          "base_uri": "https://localhost:8080/",
          "height": 34
        },
        "outputId": "65cdad3c-1681-4738-cec5-b0d34d225ff7"
      },
      "source": [
        "\"\"\"\n",
        "Play RPS\n",
        "\"\"\"\n",
        "\n",
        "p1 = 'r'  # or 'p' or 's'\n",
        "p2 = 'r'  # or 'p' or 's'\n",
        "\n",
        "# Given a p1 and p2\n",
        "# print 1 if p1 has won\n",
        "# print 2 if p2 has won\n",
        "# print 0 if tie\n",
        "# print -1 if invalid input\n",
        "# expects both p1 and p2 inputs to be either\n",
        "# \"r\", \"p\", or \"s\"\n",
        "\n",
        "\n",
        "p1 = choice(['r', 'p', 's'])\n",
        "p2 = choice(['r', 'p', 's'])\n",
        "\n",
        "if(p1 == p2):\n",
        "  print(0)\n",
        "elif(p1 == 'r'):\n",
        "  if(p2 == 's'):\n",
        "    print(1)\n",
        "  elif(p2 == 'p'):\n",
        "    print(2)\n",
        "elif(p1 == 's'):\n",
        "  if(p2 == 'r'):\n",
        "    print(2)\n",
        "  elif(p2 == 'p'):\n",
        "    print(1)\n",
        "elif(p1 == 'p'):\n",
        "  if(p2 == 's'):\n",
        "    print(2)\n",
        "  elif(p2 == 'r'):\n",
        "    print(1)\n"
      ],
      "execution_count": 30,
      "outputs": [
        {
          "output_type": "stream",
          "text": [
            "0\n"
          ],
          "name": "stdout"
        }
      ]
    },
    {
      "cell_type": "markdown",
      "metadata": {
        "id": "fp77AykMVtpN",
        "colab_type": "text"
      },
      "source": [
        "\n",
        "\n",
        "### P2.PY\n",
        "\n",
        "\n"
      ]
    },
    {
      "cell_type": "code",
      "metadata": {
        "id": "mKMaxGH8VtpO",
        "colab_type": "code",
        "colab": {
          "base_uri": "https://localhost:8080/",
          "height": 34
        },
        "outputId": "5286b81b-9a9f-4031-e09f-3988b92c1b52"
      },
      "source": [
        "\"\"\"\n",
        "Play RPS w/Computer\n",
        "\"\"\"\n",
        "\n",
        "import random\n",
        "\n",
        "p1 = None  # randomly choose 'r' or 'p' or 's'\n",
        "p2 = None  # randomly choose 'r' or 'p' or 's'\n",
        "\n",
        "# Given a p1 and p2\n",
        "# print 1 if p1 has won\n",
        "# print 2 if p2 has won\n",
        "# print 0 if tie\n",
        "# print -1 if invalid input\n",
        "# expects both p1 and p2 inputs to be either\n",
        "# \"r\", \"p\", or \"s\"\n",
        "\n",
        "\n",
        "\n",
        "p1 = choice(['r', 'p', 's'])\n",
        "p2 = choice(['r', 'p', 's'])\n",
        "\n",
        "if(p1 == p2):\n",
        "  print(0)\n",
        "elif(p1 == 'r'):\n",
        "  if(p2 == 's'):\n",
        "    print(1)\n",
        "  elif(p2 == 'p'):\n",
        "    print(2)\n",
        "elif(p1 == 's'):\n",
        "  if(p2 == 'r'):\n",
        "    print(2)\n",
        "  elif(p2 == 'p'):\n",
        "    print(1)\n",
        "elif(p1 == 'p'):\n",
        "  if(p2 == 's'):\n",
        "    print(2)\n",
        "  elif(p2 == 'r'):\n",
        "    print(1)\n"
      ],
      "execution_count": 31,
      "outputs": [
        {
          "output_type": "stream",
          "text": [
            "2\n"
          ],
          "name": "stdout"
        }
      ]
    },
    {
      "cell_type": "markdown",
      "metadata": {
        "id": "INgOFvdoVtpU",
        "colab_type": "text"
      },
      "source": [
        "\n",
        "\n",
        "### P3.PY\n",
        "\n",
        "\n"
      ]
    },
    {
      "cell_type": "code",
      "metadata": {
        "id": "vhAAHjMSVtpV",
        "colab_type": "code",
        "colab": {
          "base_uri": "https://localhost:8080/",
          "height": 68
        },
        "outputId": "a38c62ed-c097-40cd-c87d-fd6bb9f156c2"
      },
      "source": [
        "\"\"\"\n",
        "Play RPS w/Input\n",
        "\"\"\"\n",
        "\n",
        "p1 = None  # from user input\n",
        "p2 = None  # from user input\n",
        "\n",
        "# Given a p1 and p2\n",
        "# print 1 if p1 has won\n",
        "# print 2 if p2 has won\n",
        "# print 0 if tie\n",
        "# print -1 if invalid input\n",
        "# expects both p1 and p2 inputs to be either\n",
        "# \"r\", \"p\", or \"s\"\n",
        "\n",
        "\n",
        "p1 = input(\"Please enter r, p, or s\")\n",
        "p2 = input(\"Please enter r, p, or s\")\n",
        "\n",
        "if(p1 not in ['r', 'p', 's'] or p2 not in ['r', 'p', 's']):\n",
        "  print(-1)\n",
        "elif(p1 == p2):\n",
        "  print(0)\n",
        "elif(p1 == 'r'):\n",
        "  if(p2 == 's'):\n",
        "    print(1)\n",
        "  elif(p2 == 'p'):\n",
        "    print(2)\n",
        "elif(p1 == 's'):\n",
        "  if(p2 == 'r'):\n",
        "    print(2)\n",
        "  elif(p2 == 'p'):\n",
        "    print(1)\n",
        "elif(p1 == 'p'):\n",
        "  if(p2 == 's'):\n",
        "    print(2)\n",
        "  elif(p2 == 'r'):\n",
        "    print(1)\n"
      ],
      "execution_count": 35,
      "outputs": [
        {
          "output_type": "stream",
          "text": [
            "Please enter r, p, or sp\n",
            "Please enter r, p, or sr\n",
            "1\n"
          ],
          "name": "stdout"
        }
      ]
    },
    {
      "cell_type": "markdown",
      "metadata": {
        "id": "SUqNu57OVtpY",
        "colab_type": "text"
      },
      "source": [
        "\n",
        "\n",
        "### P4.PY\n",
        "\n",
        "\n"
      ]
    },
    {
      "cell_type": "code",
      "metadata": {
        "id": "Vmlr5AqSVtpY",
        "colab_type": "code",
        "colab": {
          "base_uri": "https://localhost:8080/",
          "height": 51
        },
        "outputId": "2f7732e4-3c49-47e4-b164-963d35ba3220"
      },
      "source": [
        "\"\"\"\n",
        "Play RPS against Computer\n",
        "\"\"\"\n",
        "\n",
        "p1 = None  # from user input - we still want validation from above!\n",
        "p2 = None  # randomly generated against computer\n",
        "\n",
        "# Given a p1 and p2\n",
        "# print 1 if p1 has won\n",
        "# print 2 if p2 has won\n",
        "# print 0 if tie\n",
        "# print -1 if invalid input\n",
        "# expects both p1 and p2 inputs to be either\n",
        "# \"r\", \"p\", or \"s\"\n",
        "\n",
        "\n",
        "\n",
        "p1 = input(\"Please enter r, p, or s\")\n",
        "p2 = choice(['r', 'p', 's'])\n",
        "\n",
        "if(p1 not in ['r', 'p', 's'] or p2 not in ['r', 'p', 's']):\n",
        "  print(-1)\n",
        "elif(p1 == p2):\n",
        "  print(0)\n",
        "elif(p1 == 'r'):\n",
        "  if(p2 == 's'):\n",
        "    print(1)\n",
        "  elif(p2 == 'p'):\n",
        "    print(2)\n",
        "elif(p1 == 's'):\n",
        "  if(p2 == 'r'):\n",
        "    print(2)\n",
        "  elif(p2 == 'p'):\n",
        "    print(1)\n",
        "elif(p1 == 'p'):\n",
        "  if(p2 == 's'):\n",
        "    print(2)\n",
        "  elif(p2 == 'r'):\n",
        "    print(1)"
      ],
      "execution_count": 36,
      "outputs": [
        {
          "output_type": "stream",
          "text": [
            "Please enter r, p, or sr\n",
            "1\n"
          ],
          "name": "stdout"
        }
      ]
    },
    {
      "cell_type": "markdown",
      "metadata": {
        "id": "F_7aaMtoVtpt",
        "colab_type": "text"
      },
      "source": [
        "\n",
        "\n",
        "### P5.PY\n",
        "\n",
        "\n"
      ]
    },
    {
      "cell_type": "code",
      "metadata": {
        "id": "U24EGu3VVtpu",
        "colab_type": "code",
        "colab": {
          "base_uri": "https://localhost:8080/",
          "height": 68
        },
        "outputId": "a8fc8d40-012a-45da-fa1e-0f8c4106edff"
      },
      "source": [
        "\"\"\"\n",
        "Play RPS w/Bad Input\n",
        "\"\"\"\n",
        "\n",
        "p1 = None  # can be invalid!\n",
        "p2 = None  # can be invalid!\n",
        "\n",
        "\"\"\"\n",
        "This is the same as the original RPS problem, \n",
        "except that cannot expect the input to be valid. \n",
        "While we *want* `r` or `p` or `s`, there is a possibility \n",
        "that input can be anything like...\n",
        "\n",
        "* `ROCK` (all caps)\n",
        "* `R` (`r` but capitalized)\n",
        "* `PAPrrRR` (incorrectly spelled, upper/lowercased)\n",
        "\n",
        "Implement conditional statements that will sanitize the \n",
        "user input or let user know that input is invalid.\n",
        "\"\"\"\n",
        "\n",
        "p1 = input(\"Please enter r, p, or s\")\n",
        "p2 = input(\"Please enter r, p, or s\")\n",
        "\n",
        "p1 = p1.lower()\n",
        "p2 = p2.lower()\n",
        "\n",
        "if(p1 not in ['r', 'p', 's', 'rock', 'paper', 'scizzors'] or p2 not in ['r', 'p', 's','rock', 'paper', 'scizzors']):\n",
        "  print(\"Input is invalid!\")\n",
        "elif(p1 == p2):\n",
        "  print(0)\n",
        "elif(p1 == 'r'):\n",
        "  if(p2 == 's'):\n",
        "    print(1)\n",
        "  elif(p2 == 'p'):\n",
        "    print(2)\n",
        "elif(p1 == 's'):\n",
        "  if(p2 == 'r'):\n",
        "    print(2)\n",
        "  elif(p2 == 'p'):\n",
        "    print(1)\n",
        "elif(p1 == 'p'):\n",
        "  if(p2 == 's'):\n",
        "    print(2)\n",
        "  elif(p2 == 'r'):\n",
        "    print(1)\n"
      ],
      "execution_count": 40,
      "outputs": [
        {
          "output_type": "stream",
          "text": [
            "Please enter r, p, or syay\n",
            "Please enter r, p, or s1\n",
            "Input is invalid!\n"
          ],
          "name": "stdout"
        }
      ]
    }
  ]
}