{
  "nbformat": 4,
  "nbformat_minor": 0,
  "metadata": {
    "colab": {
      "name": "Sumit classes_psets.ipynb",
      "provenance": [],
      "collapsed_sections": [],
      "include_colab_link": true
    },
    "kernelspec": {
      "name": "python3",
      "display_name": "Python 3"
    }
  },
  "cells": [
    {
      "cell_type": "markdown",
      "metadata": {
        "id": "view-in-github",
        "colab_type": "text"
      },
      "source": [
        "<a href=\"https://colab.research.google.com/github/sumitx/PYTH225_Homework/blob/master/Sumit_classes_psets.ipynb\" target=\"_parent\"><img src=\"https://colab.research.google.com/assets/colab-badge.svg\" alt=\"Open In Colab\"/></a>"
      ]
    },
    {
      "cell_type": "markdown",
      "metadata": {
        "id": "RyPJy42MQVR4",
        "colab_type": "text"
      },
      "source": [
        "#  CLASSES\n",
        "\n",
        "\n"
      ]
    },
    {
      "cell_type": "markdown",
      "metadata": {
        "id": "wN5WvJFIQav3",
        "colab_type": "text"
      },
      "source": [
        "## BASICS"
      ]
    },
    {
      "cell_type": "markdown",
      "metadata": {
        "id": "-pkisP_FQcHU",
        "colab_type": "text"
      },
      "source": [
        "### P1.PY"
      ]
    },
    {
      "cell_type": "code",
      "metadata": {
        "id": "IzneYCnaQVR5",
        "colab_type": "code",
        "colab": {}
      },
      "source": [
        "\"\"\"\n",
        "Person class\n",
        "\"\"\"\n",
        "\n",
        "# Create a Person class with the following properties\n",
        "# 1. name\n",
        "# 2. age\n",
        "# 3. social security number\n",
        "\n",
        "class Person:\n",
        "  def __init__(self, name, age, ssn):\n",
        "    if type(name) != str:\n",
        "      raise Exception(\"Name must be string!\")\n",
        "    self.name = name\n",
        "    self.age = age\n",
        "    self.ssn = ssn\n",
        "\n",
        "p1 = Person(\"Sumit\", 28, 12345)\n"
      ],
      "execution_count": 0,
      "outputs": []
    },
    {
      "cell_type": "markdown",
      "metadata": {
        "id": "ZrXt0IATQVR_",
        "colab_type": "text"
      },
      "source": [
        "\n",
        "\n",
        "### P2.PY\n",
        "\n",
        "\n"
      ]
    },
    {
      "cell_type": "code",
      "metadata": {
        "id": "HmfkVGjjQVSA",
        "colab_type": "code",
        "outputId": "ff2e1648-ea13-4117-a89b-edd086797af1",
        "colab": {
          "base_uri": "https://localhost:8080/",
          "height": 34
        }
      },
      "source": [
        "\"\"\"\n",
        "Cat class\n",
        "\"\"\"\n",
        "\n",
        "# Implement a class called \"Cat\" with the following properties:\n",
        "# name\n",
        "# breed\n",
        "# age\n",
        "\n",
        "# also, implement a method called \"speak\" that should print out \"purr\"\n",
        "\n",
        "\n",
        "class Cat: \n",
        "  def __init__(self, name, breed, age):\n",
        "    self.name = name\n",
        "    self.breed = breed\n",
        "    self.age = age\n",
        "  \n",
        "  def speak(self):\n",
        "    print(\"purr\")\n",
        "\n",
        "\n",
        "aNewCat = Cat(\"Tom\", \"idk\", 3)\n",
        "aNewCat.speak()"
      ],
      "execution_count": 0,
      "outputs": [
        {
          "output_type": "stream",
          "text": [
            "purr\n"
          ],
          "name": "stdout"
        }
      ]
    },
    {
      "cell_type": "markdown",
      "metadata": {
        "id": "qvxZaPxNQVSD",
        "colab_type": "text"
      },
      "source": [
        "\n",
        "\n",
        "### P3.PY\n",
        "\n",
        "\n"
      ]
    },
    {
      "cell_type": "code",
      "metadata": {
        "id": "m6PY5wQdQVSE",
        "colab_type": "code",
        "outputId": "c96b2fdd-4b4b-4fa1-8990-9633c4bf5582",
        "colab": {
          "base_uri": "https://localhost:8080/",
          "height": 102
        }
      },
      "source": [
        "\"\"\"\n",
        "Phone Contacts\n",
        "\"\"\" \n",
        "\n",
        "# Create a class called \"Contact\" that will store the below items for each contact in your phone. The starred items should be required. Instantiate two Contact instance objects and access each of their attributes.\n",
        "    ### name*\n",
        "    ### mobile_num\n",
        "    ### work_num\n",
        "    ### email\n",
        "\n",
        "class Contact:\n",
        "  def __init__(self, name, mobile_num=None, work_num=None, email=None):\n",
        "    self.name = name\n",
        "    self.mobile_num = mobile_num\n",
        "    self.work_num = work_num\n",
        "    self.email = email\n",
        "\n",
        "contact1 = Contact(\"Joe\")\n",
        "print(contact1.name)\n",
        "\n",
        "contact2 = Contact(\"Ray\", 21231243, 12312341, 'sp@email.com')\n",
        "print(contact2.name)\n",
        "print(contact2.mobile_num)\n",
        "print(contact2.work_num)\n",
        "print(contact2.email)\n"
      ],
      "execution_count": 0,
      "outputs": [
        {
          "output_type": "stream",
          "text": [
            "Joe\n",
            "Ray\n",
            "21231243\n",
            "12312341\n",
            "sp@email.com\n"
          ],
          "name": "stdout"
        }
      ]
    },
    {
      "cell_type": "markdown",
      "metadata": {
        "id": "PRUu-pYrQVSG",
        "colab_type": "text"
      },
      "source": [
        "\n",
        "\n",
        "### P4.PY\n",
        "\n",
        "\n"
      ]
    },
    {
      "cell_type": "code",
      "metadata": {
        "id": "UY7JmxmNQVSH",
        "colab_type": "code",
        "outputId": "51a16847-fa34-49c8-969b-4a3007460719",
        "colab": {
          "base_uri": "https://localhost:8080/",
          "height": 51
        }
      },
      "source": [
        "\"\"\"\n",
        "Rectangle\n",
        "\"\"\"\n",
        "\n",
        "# Write a Python class named \"Rectangle\" constructed by values for length and width. It should include two methods to calculate the \"area\" and the \"perimeter\" of a rectangle. Instantiate a Rectangle and call both methods.\n",
        "\n",
        "class Rectangle():\n",
        "  def __init__(self, length, width):\n",
        "    self.length = length\n",
        "    self.width = width\n",
        "\n",
        "  def perimeter(self):\n",
        "    print(self.length*2 + self.width *2)\n",
        "\n",
        "  def area(self):\n",
        "    print(self.length* self.width)\n",
        "\n",
        "myRectangle = Rectangle(1, 2)\n",
        "myRectangle.perimeter()\n",
        "myRectangle.area()"
      ],
      "execution_count": 0,
      "outputs": [
        {
          "output_type": "stream",
          "text": [
            "6\n",
            "2\n"
          ],
          "name": "stdout"
        }
      ]
    },
    {
      "cell_type": "markdown",
      "metadata": {
        "id": "z3HWRp76QVSK",
        "colab_type": "text"
      },
      "source": [
        "\n",
        "\n",
        "### P5.PY\n",
        "\n",
        "\n"
      ]
    },
    {
      "cell_type": "code",
      "metadata": {
        "id": "CAahOYImQVSL",
        "colab_type": "code",
        "outputId": "e764444d-6288-4956-b8ca-8a2b9feab6d4",
        "colab": {
          "base_uri": "https://localhost:8080/",
          "height": 51
        }
      },
      "source": [
        "\"\"\"\n",
        "Circle\n",
        "\"\"\"\n",
        "\n",
        "# Write a Python class named \"Circle\" constructed by a radius value and a class attribute for pi. You can use 3.14159 for the value of pi for simplicity. It should include two methods to calculate the \"area\" and the \"perimeter\" of a circle. Instantiate a Circle and call both methods.\n",
        "\n",
        "\n",
        "class Circle():\n",
        "  pi = 3.14159\n",
        "  def __init__(self, radius):\n",
        "    self.radius = radius\n",
        "\n",
        "  def perimeter(self):\n",
        "    print(self.pi *(2*self.radius))\n",
        "\n",
        "  def area(self):\n",
        "        print(self.pi * self.radius * self.radius)\n",
        "\n",
        "myCircle = Circle(3)\n",
        "myCircle.perimeter()\n",
        "myCircle.area()\n"
      ],
      "execution_count": 0,
      "outputs": [
        {
          "output_type": "stream",
          "text": [
            "18.849539999999998\n",
            "28.274309999999996\n"
          ],
          "name": "stdout"
        }
      ]
    },
    {
      "cell_type": "markdown",
      "metadata": {
        "id": "UhQbvm0yQVSN",
        "colab_type": "text"
      },
      "source": [
        "\n",
        "\n",
        "### P6.PY\n",
        "\n",
        "\n"
      ]
    },
    {
      "cell_type": "code",
      "metadata": {
        "id": "L3ALeW8dQVSO",
        "colab_type": "code",
        "colab": {
          "base_uri": "https://localhost:8080/",
          "height": 51
        },
        "outputId": "ec1bf12e-a29d-4ce3-fd72-2941c3f12f0f"
      },
      "source": [
        "\"\"\"\n",
        "RGB to HEX\n",
        "\"\"\"\n",
        "\n",
        "# Remember our function \"rgb_hex\" from the functions pset? That function took a color in rgb format and returned it in hex format as well as vice versa. Wouldn't it be so much easier to do that with a class called Color?\n",
        "\n",
        "# Define a class called \"Color\" to store each color's rgb and hex values. Define a method called \"convert_codes()\" to retrieve one value given the other. Create at least one instance of Color and try the convert_codes() method.\n",
        "\n",
        "class Color():\n",
        "  def __init__(self, color_name, hex, rgb):\n",
        "    self.color_name = color_name\n",
        "    self.hex = hex\n",
        "    self.rgb = rgb\n",
        "\n",
        "  def convert_codes(self, val):\n",
        "    if val == self.hex:\n",
        "      return self.rgb\n",
        "  \n",
        "    if val == self.rgb:\n",
        "      return self.hex\n",
        "\n",
        "\n",
        "red = Color('red', 'ff0000', 'rgb(255,0,0)')\n",
        "print(red.convert_codes('ff0000'))\n",
        "print(red.convert_codes('rgb(255,0,0)'))"
      ],
      "execution_count": 7,
      "outputs": [
        {
          "output_type": "stream",
          "text": [
            "rgb(255,0,0)\n",
            "ff0000\n"
          ],
          "name": "stdout"
        }
      ]
    },
    {
      "cell_type": "markdown",
      "metadata": {
        "id": "y8I3eTeXQVSR",
        "colab_type": "text"
      },
      "source": [
        "## VEHICLES\n",
        "\n",
        "\n"
      ]
    },
    {
      "cell_type": "markdown",
      "metadata": {
        "id": "aALzjPkdQhSP",
        "colab_type": "text"
      },
      "source": [
        "### P1.PY"
      ]
    },
    {
      "cell_type": "code",
      "metadata": {
        "id": "ghZcPSz0QVSS",
        "colab_type": "code",
        "colab": {
          "base_uri": "https://localhost:8080/",
          "height": 68
        },
        "outputId": "0562bca5-753b-48ae-c5d4-ed6be0460253"
      },
      "source": [
        "\"\"\"\n",
        "Vehicles I \n",
        "\"\"\"\n",
        "\n",
        "# Create a \"Vehicle\" class with instance attributes for \"name\" and \"owner\". \n",
        "# Add a method called \"start_engine()\" that prints \"Vroom!\". \n",
        "# Instantiate a Vehicle called \"submarine\" and then access all its attributes and methods for practice.\n",
        "\n",
        "class Vehicle:\n",
        "  def __init__(self, name, owner):\n",
        "    self.name = name\n",
        "    self.owner = owner\n",
        "\n",
        "  def start_engine(self):\n",
        "    return \"Vroom!\"\n",
        "\n",
        "myV = Vehicle(\"Submarine\", \"Sumit\")\n",
        "print(myV.start_engine())\n",
        "print(myV.name)\n",
        "print(myV.owner)"
      ],
      "execution_count": 15,
      "outputs": [
        {
          "output_type": "stream",
          "text": [
            "Vroom!\n",
            "Submarine\n",
            "Sumit\n"
          ],
          "name": "stdout"
        }
      ]
    },
    {
      "cell_type": "markdown",
      "metadata": {
        "id": "CxsKrKDYQVSV",
        "colab_type": "text"
      },
      "source": [
        "\n",
        "\n",
        "### P2.PY\n",
        "\n",
        "\n"
      ]
    },
    {
      "cell_type": "code",
      "metadata": {
        "id": "vxseoNdVQVSW",
        "colab_type": "code",
        "colab": {
          "base_uri": "https://localhost:8080/",
          "height": 85
        },
        "outputId": "13400012-656f-41a3-df73-b9ac2b99d801"
      },
      "source": [
        "\"\"\"\n",
        "Vehicles II\n",
        "\"\"\"\n",
        "\n",
        "# Define 3 unique child classes for Vehicle - Car, Plane, and Boat. Each of these should have its own class attributes for \"motion\" and \"terrain\". (For Car, these would be something like \"drive\" and \"land\".)\n",
        "\n",
        "class Car(Vehicle):\n",
        "  def __init__(self, name, owner, motion, terrain):\n",
        "    super().__init__(name, owner)\n",
        "    self.motion = motion\n",
        "    self.terrain = terrain\n",
        "\n",
        "class Plane(Vehicle):\n",
        "  def __init__(self, name, owner, motion, terrain):\n",
        "    super().__init__(name, owner)\n",
        "    self.motion = motion\n",
        "    self.terrain = terrain\n",
        "\n",
        "class Boat(Vehicle):\n",
        "  def __init__(self, name, owner, motion, terrain):\n",
        "    super().__init__(name, owner)\n",
        "    self.motion = motion\n",
        "    self.terrain = terrain\n",
        "\n",
        "myCar = Car(\"Car\", \"Sumit\", \"Drive\", \"Road\")\n",
        "print(myCar.start_engine())\n",
        "print(myCar.terrain)\n",
        "\n",
        "myPlane = Plane(\"Plane\", \"Sumit\", \"Fly\", \"Air\")\n",
        "print(myPlane.start_engine())\n",
        "print(myPlane.motion)"
      ],
      "execution_count": 17,
      "outputs": [
        {
          "output_type": "stream",
          "text": [
            "Vroom!\n",
            "Road\n",
            "Vroom!\n",
            "Fly\n"
          ],
          "name": "stdout"
        }
      ]
    },
    {
      "cell_type": "markdown",
      "metadata": {
        "id": "sYiJRi07QVSY",
        "colab_type": "text"
      },
      "source": [
        "\n",
        "\n",
        "### P3.PY\n",
        "\n",
        "\n"
      ]
    },
    {
      "cell_type": "code",
      "metadata": {
        "id": "VdMZiobfQVSZ",
        "colab_type": "code",
        "colab": {
          "base_uri": "https://localhost:8080/",
          "height": 68
        },
        "outputId": "ce767263-b891-471c-956d-2ab409f98a3a"
      },
      "source": [
        "\"\"\"\n",
        "Vehicles III\n",
        "\"\"\"\n",
        "\n",
        "# For Car, define a method called \"honk_horn()\" that prints \"HONK!\"\n",
        "# For Plane, define a method called \"take_off()\" that prints \"Fasten your seatbelts!\"\n",
        "# For Boat, define a method called \"drop_achor()\" that prints \"Anchors away!\"\n",
        "\n",
        "class Car(Vehicle):\n",
        "  def __init__(self, name, owner, motion, terrain):\n",
        "    super().__init__(name, owner)\n",
        "    self.motion = motion\n",
        "    self.terrain = terrain\n",
        "  \n",
        "  def honk_horn(self):\n",
        "    return \"HONK!\"\n",
        "\n",
        "class Plane(Vehicle):\n",
        "  def __init__(self, name, owner, motion, terrain):\n",
        "    super().__init__(name, owner)\n",
        "    self.motion = motion\n",
        "    self.terrain = terrain\n",
        "  def take_off(self):\n",
        "    return \"Fasten your seatbelts!\"\n",
        "\n",
        "class Boat(Vehicle):\n",
        "  def __init__(self, name, owner, motion, terrain):\n",
        "    super().__init__(name, owner)\n",
        "    self.motion = motion\n",
        "    self.terrain = terrain\n",
        "  def drop_achor(self):\n",
        "    return \"Anchors away!\"\n",
        "\n",
        "myCar = Car(\"Car\", \"Sumit\", \"Drive\", \"Road\")\n",
        "print(myCar.honk_horn())\n",
        "myPlane = Plane(\"Plane\", \"Sumit\", \"Fly\", \"Air\")\n",
        "print(myPlane.take_off())\n",
        "myBoat = Boat(\"Boat\", \"Sumit\", \"Float\", \"Water\")\n",
        "print(myBoat.drop_achor())"
      ],
      "execution_count": 24,
      "outputs": [
        {
          "output_type": "stream",
          "text": [
            "HONK!\n",
            "Fasten your seatbelts!\n",
            "Anchors away!\n"
          ],
          "name": "stdout"
        }
      ]
    },
    {
      "cell_type": "markdown",
      "metadata": {
        "id": "vQBQiZeaQVSb",
        "colab_type": "text"
      },
      "source": [
        "\n",
        "\n",
        "### P4.PY\n",
        "\n",
        "\n"
      ]
    },
    {
      "cell_type": "code",
      "metadata": {
        "id": "LBmdMSW8QVSb",
        "colab_type": "code",
        "colab": {
          "base_uri": "https://localhost:8080/",
          "height": 289
        },
        "outputId": "2b29242a-57ae-45d0-935a-45d07eb76e8e"
      },
      "source": [
        "\"\"\"\n",
        "Vehicles IV\n",
        "\"\"\"\n",
        "\n",
        "# Create an instance of each child class. Access all their attributes and methods, including those inherited from their parent class Vehicle.\n",
        "\n",
        "# TAKEAWAY! - Vehicle is the baseline class for other more specific types of vehicles. Typically, you wouldn't instantiate a Vehicle because the child classes are more useful for storing information about vehicles. The Vehicle class serves to create a relationship between its children. However, \"submarine\" might be created as a Vehicle because it's so rare that you might not need a full Submarine class!\n",
        "\n",
        "\n",
        "myCar = Car(\"Car\", \"Sumit\", \"Drive\", \"Road\")\n",
        "print(myCar.name)\n",
        "print(myCar.owner)\n",
        "print(myCar.honk_horn())\n",
        "print(myCar.start_engine())\n",
        "print(myCar.terrain)\n",
        "print(myCar.motion)\n",
        "myPlane = Plane(\"Plane\", \"Sumit\", \"Fly\", \"Air\")\n",
        "print(myPlane.name)\n",
        "print(myPlane.owner)\n",
        "print(myPlane.take_off())\n",
        "print(myPlane.terrain)\n",
        "print(myPlane.motion)\n",
        "myBoat = Boat(\"Boat\", \"Sumit\", \"Float\", \"Water\")\n",
        "print(myBoat.name)\n",
        "print(myBoat.owner)\n",
        "print(myBoat.drop_achor())\n",
        "print(myBoat.terrain)\n",
        "print(myBoat.motion)"
      ],
      "execution_count": 25,
      "outputs": [
        {
          "output_type": "stream",
          "text": [
            "Car\n",
            "Sumit\n",
            "HONK!\n",
            "Vroom!\n",
            "Road\n",
            "Drive\n",
            "Plane\n",
            "Sumit\n",
            "Fasten your seatbelts!\n",
            "Air\n",
            "Fly\n",
            "Boat\n",
            "Sumit\n",
            "Anchors away!\n",
            "Water\n",
            "Float\n"
          ],
          "name": "stdout"
        }
      ]
    },
    {
      "cell_type": "markdown",
      "metadata": {
        "id": "n5WuMcd2QVSf",
        "colab_type": "text"
      },
      "source": [
        "\n",
        "\n",
        "### P5.PY\n",
        "\n",
        "\n"
      ]
    },
    {
      "cell_type": "code",
      "metadata": {
        "id": "oLi5DYoRQVSg",
        "colab_type": "code",
        "colab": {}
      },
      "source": [
        "\"\"\"\n",
        "Vehicles V\n",
        "\"\"\"\n",
        "\n",
        "# Let's expand the Car class to be more comprehensive. Include attributes for...\n",
        "## brand name\n",
        "## plates\n",
        "## owner\n",
        "## fuel (e.g. gasoline, battery, etc.)\n",
        "## fuel_level (a numerical amount that defaults to 50, and max speed in MPH that defaults to None. \n",
        "\n",
        "class Car(Vehicle):\n",
        "  def __init__(self, name, owner, motion, terrain, brand_name, plates, fuel, fuel_level):\n",
        "    super().__init__(name, owner)\n",
        "    self.motion = motion\n",
        "    self.terrain = terrain\n",
        "    self.brand_name = brand_name\n",
        "    self.plates = plates\n",
        "    self.fuel = fuel\n",
        "    self.fuel_level = fuel_level\n",
        "  \n",
        "  def honk_horn(self):\n",
        "    return \"HONK!\"\n"
      ],
      "execution_count": 0,
      "outputs": []
    },
    {
      "cell_type": "markdown",
      "metadata": {
        "id": "A6fExHtLQVSi",
        "colab_type": "text"
      },
      "source": [
        "\n",
        "\n",
        "### P6.PY\n",
        "\n",
        "\n"
      ]
    },
    {
      "cell_type": "code",
      "metadata": {
        "id": "MpL9MvJJQVSj",
        "colab_type": "code",
        "colab": {
          "base_uri": "https://localhost:8080/",
          "height": 51
        },
        "outputId": "10986027-afe4-4319-d151-0bc4c7d014de"
      },
      "source": [
        "\"\"\"\n",
        "Vehicles VI\n",
        "\"\"\"\n",
        "\n",
        "# Next, define new method called \"check_fuel_level()\" for your newly expanded Car class. If the fuel_level attribute is < 15, the method should reset fuel_level to 50 and print out how many units it refueled the car, e.g. 'Refueled 38 units.' Otherwise, it should simply print 'No need to refuel right now.'\n",
        "\n",
        "# Create at least TWO instances of Car, one of which has a fuel level below 15. Access the new attributes and call the check_fuel_level() method for each instance.\n",
        "\n",
        "class Car(Vehicle):\n",
        "  def __init__(self, name, owner, motion, terrain, brand_name, plates, fuel, fuel_level):\n",
        "    super().__init__(name, owner)\n",
        "    self.motion = motion\n",
        "    self.terrain = terrain\n",
        "    self.brand_name = brand_name\n",
        "    self.plates = plates\n",
        "    self.fuel = fuel\n",
        "    self.fuel_level = fuel_level\n",
        "  \n",
        "  def honk_horn(self):\n",
        "    return \"HONK!\"\n",
        "\n",
        "  def check_fuel_level(self):\n",
        "    if self.fuel_level < 15:\n",
        "      print(f\"Refueled {50-self.fuel_level} units\")\n",
        "    else:\n",
        "      print(\"No need to refuel right now.\")\n",
        "\n",
        "carA = Car(\"CarA\", \"SP\", \"Drive\", \"Road\", \"Toyota\", \"ABCD\", \"Diesel\", 14)\n",
        "carA.check_fuel_level()\n",
        "carB = Car(\"CarB\", \"SP\", \"Drive\", \"Road\", \"Toyota\", \"ABCDEF\", \"Diesel\", 20)\n",
        "carB.check_fuel_level()"
      ],
      "execution_count": 29,
      "outputs": [
        {
          "output_type": "stream",
          "text": [
            "Refueled 36 units\n",
            "No need to refuel right now.\n"
          ],
          "name": "stdout"
        }
      ]
    },
    {
      "cell_type": "markdown",
      "metadata": {
        "id": "4T8OMv5cQVSl",
        "colab_type": "text"
      },
      "source": [
        "## WEDDING_GUESTS\n",
        "\n",
        "\n"
      ]
    },
    {
      "cell_type": "markdown",
      "metadata": {
        "id": "ZkHoC8FJQksO",
        "colab_type": "text"
      },
      "source": [
        "### P1.PY"
      ]
    },
    {
      "cell_type": "code",
      "metadata": {
        "id": "QEaByQNqQVSm",
        "colab_type": "code",
        "colab": {
          "base_uri": "https://localhost:8080/",
          "height": 68
        },
        "outputId": "96cff180-0222-495d-e7b5-b4c7ee1af90e"
      },
      "source": [
        "\"\"\"\n",
        "Weddings I - Guest List\n",
        "\"\"\"\n",
        "\n",
        "# Imagine for this problem set that you are planning a wedding. \n",
        "\n",
        "\n",
        "# A) Define a class called \"Guest\" to help you manage all the information about each invitee. This should initially include instance attributes for the guests's name, phone, and an optional \"invite_sent\" that defaults to False. Guest should also include an instance method called \"send_invite()\", which changes the value of invite_sent to True once you send an invitation to that guest.\n",
        "\n",
        "class Guest:\n",
        "  def __init__(self, name, phone, invite_sent = False):\n",
        "    self.name = name\n",
        "    self.phone = phone\n",
        "    self.invite_sent = invite_sent\n",
        "\n",
        "  def send_invite(self):\n",
        "    self.invite_sent = True\n",
        "    print(\"Inv sent\")\n",
        "\n",
        "\n",
        "# B) Next, define a child class called \"Bridesmaid\", which includes the same initial attributes and inherits Guest's instance method.\n",
        "\n",
        "class Brisesmaid(Guest):\n",
        "  def __init__(self, name, phone, invite_sent = False):\n",
        "    super().__init__(name, phone, invite_sent)\n",
        "\n",
        "# C) Finally, create at least one instance of each class and do the following:\n",
        "### Call send_invite() on each instance.\n",
        "### Check whether Bridesmaid is a child of Guest and vice versa.\n",
        "\n",
        "aGuest = Guest(\"Tom\", \"1234\", False)\n",
        "aGuest.send_invite()\n",
        "aBrisesmaid = Brisesmaid(\"Julia\", \"12345678\", False)\n",
        "aBrisesmaid.send_invite()\n",
        "print(issubclass(Brisesmaid, Guest))"
      ],
      "execution_count": 36,
      "outputs": [
        {
          "output_type": "stream",
          "text": [
            "Inv sent\n",
            "Inv sent\n",
            "True\n"
          ],
          "name": "stdout"
        }
      ]
    },
    {
      "cell_type": "markdown",
      "metadata": {
        "id": "UBc-ylx5QVSo",
        "colab_type": "text"
      },
      "source": [
        "\n",
        "\n",
        "### P2.PY\n",
        "\n",
        "\n"
      ]
    },
    {
      "cell_type": "code",
      "metadata": {
        "id": "de41Yy_RQVSo",
        "colab_type": "code",
        "colab": {
          "base_uri": "https://localhost:8080/",
          "height": 85
        },
        "outputId": "b6a3cc50-b20c-40c9-8c62-e23b9abea8fb"
      },
      "source": [
        "\"\"\"\n",
        "Weddings II - Record Bridesmaid RSVPs\n",
        "\"\"\"\n",
        "\n",
        "# Create a method in Guest to record a guests's rsvp to your invitation. It should record whether they have any dietary restrictions (e.g. vegetarian, kosher, halal, etc.) and whether they're bringing a plus one. If they are bringing a plus one, it should record the name of the plus one and his/her dietary restrictions if any. These values should be stored in instance attributes.\n",
        "\n",
        "class Guest:\n",
        "  restrictions = None\n",
        "  plus_one = None\n",
        "  plus_one_res = None\n",
        "\n",
        "  def __init__(self, name, phone, invite_sent = False):\n",
        "    self.name = name\n",
        "    self.phone = phone\n",
        "    self.invite_sent = invite_sent\n",
        "\n",
        "  def send_invite(self):\n",
        "    self.invite_sent = True\n",
        "    print(\"Inv sent\")\n",
        "\n",
        "  def rsvp(self, restrictions, plus_one, plus_one_res):\n",
        "    self.restrictions = restrictions\n",
        "    if(type(plus_one) == str):\n",
        "      self.plus_one = plus_one\n",
        "      self.plus_one_res = plus_one_res\n",
        "\n",
        "# Try out this method on at least one instance of Guest and at least one instance of Bridesmaid.\n",
        "aGuest = Guest(\"Tom\", \"1234\", False)\n",
        "aGuest.rsvp(\"Veg\", \"Anna\", \"Halal\")\n",
        "print(aGuest.plus_one)\n",
        "print(aGuest.plus_one_res)\n",
        "\n",
        "class Brisesmaid(Guest):\n",
        "  pass\n",
        "\n",
        "aBrisesmaid = Brisesmaid(\"Julia\", \"12345\", False)\n",
        "aBrisesmaid.rsvp(\"Kosher\", \"Annie\", \"Veg\")\n",
        "print(aBrisesmaid.plus_one)\n",
        "print(aBrisesmaid.plus_one_res)"
      ],
      "execution_count": 42,
      "outputs": [
        {
          "output_type": "stream",
          "text": [
            "Anna\n",
            "Halal\n",
            "Annie\n",
            "Veg\n"
          ],
          "name": "stdout"
        }
      ]
    },
    {
      "cell_type": "markdown",
      "metadata": {
        "id": "ae81Cvg3QVSr",
        "colab_type": "text"
      },
      "source": [
        "\n",
        "\n",
        "### P3.PY\n",
        "\n",
        "\n"
      ]
    },
    {
      "cell_type": "code",
      "metadata": {
        "id": "uL2m2WDNQVSs",
        "colab_type": "code",
        "colab": {}
      },
      "source": [
        "\"\"\"\n",
        "Weddings III - Record Shower & Bachelorette RSVP\n",
        "\"\"\"\n",
        "\n",
        "# Create two methods in Bridesmaid to record a the bridesmaid's rsvp to the bridal shower and the bachelorette party. You can call them \"record_shower_rsvp()\" and \"record_bachelorette_rsvp()\". They will work just like the general \"record_rsvp()\" except there will be no plus ones or diet questions. Their rsvp answers should be stored in instance attributes with the same name (i.e. shower_rsvp & bachelorette_rsvp)."
      ],
      "execution_count": 0,
      "outputs": []
    },
    {
      "cell_type": "markdown",
      "metadata": {
        "id": "L9e1xwP0QVSu",
        "colab_type": "text"
      },
      "source": [
        "\n",
        "\n",
        "## DOGS\n",
        "\n",
        "\n"
      ]
    },
    {
      "cell_type": "markdown",
      "metadata": {
        "id": "fqAxs72cQnUC",
        "colab_type": "text"
      },
      "source": [
        "### P1.PY"
      ]
    },
    {
      "cell_type": "code",
      "metadata": {
        "id": "lCOGctWEQVSw",
        "colab_type": "code",
        "colab": {}
      },
      "source": [
        "\"\"\"\n",
        "Dogs I\n",
        "\"\"\"\n",
        "\n",
        "# Create a class called \"Dog\". It should include: \n",
        "## A class attribute \"domesticated\" w. value True\n",
        "## An instance method called \"bark()\" that prints \"Woof!\""
      ],
      "execution_count": 0,
      "outputs": []
    },
    {
      "cell_type": "markdown",
      "metadata": {
        "id": "UO54DHkgQVS2",
        "colab_type": "text"
      },
      "source": [
        "\n",
        "\n",
        "### P2.PY\n",
        "\n",
        "\n"
      ]
    },
    {
      "cell_type": "code",
      "metadata": {
        "id": "njrtxJF-QVS5",
        "colab_type": "code",
        "colab": {}
      },
      "source": [
        "\"\"\"\n",
        "Dogs II\n",
        "\"\"\" \n",
        "\n",
        "# Create child class for 3 dog breeds - Collie, Siberian Husky, and Pekingese. Each should have:\n",
        "## 2 class attributes for \"breed\" and \"temperament\". The latter should be a list.\n",
        "## 3 instance attributes for \"name\", \"age\", and \"gender\".\n",
        "\n"
      ],
      "execution_count": 0,
      "outputs": []
    },
    {
      "cell_type": "markdown",
      "metadata": {
        "id": "GRDjTLXgQVS7",
        "colab_type": "text"
      },
      "source": [
        "\n",
        "\n",
        "### P3.PY\n",
        "\n",
        "\n"
      ]
    },
    {
      "cell_type": "code",
      "metadata": {
        "id": "w5X6VYA9QVS_",
        "colab_type": "code",
        "colab": {}
      },
      "source": [
        "\"\"\"\n",
        "Dogs III\n",
        "\"\"\" \n",
        "\n",
        "# A) Add an instance method to Collie called \"herd_the_kids()\" that prints \"Here are your children!\"\n",
        "\n",
        "# B) Add an instance method called \"bark()\" to Pekingese. This should override the parent method \"bark()\" such that when you call bark() on an instance of Pekingese, it prints \"Yap!\" instead.\n",
        "\n",
        "# C) Instantiate one of each breed. Access the attributes, methods, and parent methods of each one. BONUS: Aside from herd_the_kids(), you should be able to do this in a loop.\n",
        "\n",
        "\n"
      ],
      "execution_count": 0,
      "outputs": []
    },
    {
      "cell_type": "markdown",
      "metadata": {
        "id": "m7YmFSBWQVTB",
        "colab_type": "text"
      },
      "source": [
        "\n",
        "\n",
        "### P4.PY\n",
        "\n",
        "\n"
      ]
    },
    {
      "cell_type": "code",
      "metadata": {
        "id": "1d7XsSD8QVTB",
        "colab_type": "code",
        "colab": {}
      },
      "source": [
        "\"\"\"\n",
        "Dogs IV - Tricks (CHALLENGE!)\n",
        "\"\"\"\n",
        "\n",
        "# Many dogs know how to do common tricks or follow common commands. You could create methods for each trick/command in the Dog parent class, but the problem is that not all dogs know all tricks/commands. \n",
        "\n",
        "# However, it would be inefficient to define a custom set of instance methods for tricks/commands every time you instantiate a unique Collie (or SiberianHuskey or Pekingese etc.).\n",
        "\n",
        "# Find an efficient way to specify which tricks each unique dog knows and to call them. You can use \"roll_over\", \"fetch\", \"shake_hands\", and \"spin\". Secondly, find a way to teach a dog new trick from this set.\n",
        "\n",
        "\n"
      ],
      "execution_count": 0,
      "outputs": []
    },
    {
      "cell_type": "markdown",
      "metadata": {
        "id": "JjH9Q0XiQVTD",
        "colab_type": "text"
      },
      "source": [
        "\n"
      ]
    }
  ]
}