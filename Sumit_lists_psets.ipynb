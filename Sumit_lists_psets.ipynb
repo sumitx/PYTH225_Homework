{
  "nbformat": 4,
  "nbformat_minor": 0,
  "metadata": {
    "colab": {
      "name": "Sumit lists_psets.ipynb",
      "provenance": [],
      "collapsed_sections": [],
      "include_colab_link": true
    },
    "kernelspec": {
      "name": "python3",
      "display_name": "Python 3"
    }
  },
  "cells": [
    {
      "cell_type": "markdown",
      "metadata": {
        "id": "view-in-github",
        "colab_type": "text"
      },
      "source": [
        "<a href=\"https://colab.research.google.com/github/sumitx/PYTH225_Homework/blob/master/Sumit_lists_psets.ipynb\" target=\"_parent\"><img src=\"https://colab.research.google.com/assets/colab-badge.svg\" alt=\"Open In Colab\"/></a>"
      ]
    },
    {
      "cell_type": "markdown",
      "metadata": {
        "id": "Yr_KNJCvVI_l",
        "colab_type": "text"
      },
      "source": [
        "#  LISTS"
      ]
    },
    {
      "cell_type": "markdown",
      "metadata": {
        "id": "wnygsOhDVRof",
        "colab_type": "text"
      },
      "source": [
        "## LIST OPS"
      ]
    },
    {
      "cell_type": "markdown",
      "metadata": {
        "id": "3YuVvl6vVSvP",
        "colab_type": "text"
      },
      "source": [
        "### P1.PY"
      ]
    },
    {
      "cell_type": "code",
      "metadata": {
        "id": "Ir33rYgDVI_m",
        "colab_type": "code",
        "outputId": "a3aa5a20-36f3-4e78-df6e-90468e84f970",
        "colab": {
          "base_uri": "https://localhost:8080/",
          "height": 85
        }
      },
      "source": [
        "\"\"\"\n",
        "Basic List Operations I\n",
        "\"\"\"\n",
        "\n",
        "# Create a list including these five animals - elephant, tiger, otter, orangutan, and penguin.\n",
        "animals = [\"elephant\", \"tiger\", \"ottter\", \"orangutan\", \"penguin\"]\n",
        "\n",
        "# Print the 4th animal on the list.\n",
        "\n",
        "print(animals[3])\n",
        "\n",
        "\n",
        "# Add 'tortoise' to the beginning of the list.\n",
        "animals.insert(0, \"tortoise\")\n",
        "print(animals)\n",
        "\n",
        "\n",
        "# Print the length of the list.\n",
        "print(len(animals))\n",
        "\n",
        "\n",
        "# Remove 'orangutan' from the list.\n",
        "animals.pop(-2)\n",
        "\n",
        "\n",
        "# Sort the list alphabetically and print it out.\n",
        "animals.sort()\n",
        "print(animals)"
      ],
      "execution_count": 0,
      "outputs": [
        {
          "output_type": "stream",
          "text": [
            "orangutan\n",
            "['tortoise', 'elephant', 'tiger', 'ottter', 'orangutan', 'penguin']\n",
            "6\n",
            "['elephant', 'ottter', 'penguin', 'tiger', 'tortoise']\n"
          ],
          "name": "stdout"
        }
      ]
    },
    {
      "cell_type": "markdown",
      "metadata": {
        "id": "iopPhVNUVI_p",
        "colab_type": "text"
      },
      "source": [
        "\n",
        "\n",
        "### P2.PY\n",
        "\n",
        "\n"
      ]
    },
    {
      "cell_type": "code",
      "metadata": {
        "id": "4kMd_uBjVI_q",
        "colab_type": "code",
        "outputId": "060044c5-2b06-4e02-a757-8c5398616981",
        "colab": {
          "base_uri": "https://localhost:8080/",
          "height": 85
        }
      },
      "source": [
        "\"\"\"\n",
        "Basic List Operations II\n",
        "\"\"\"\n",
        "\n",
        "# Declare a list with 5 names, and print out the length of that list.\n",
        "names = None\n",
        "names = [\"joe\", \"jill\", \"jack\", \"john\", \"jacob\"]\n",
        "\n",
        "# Print the 3rd name on the list\n",
        "print(names[2])\n",
        "\n",
        "\n",
        "# Delete the first name on the list\n",
        "person = names.pop(0)\n",
        "print(names)\n",
        "\n",
        "# Re-add the name you deleted to the end of the list\n",
        "\n",
        "names.append(person)\n",
        "\n",
        "# Replace the 2nd name on the list with a new name.\n",
        "\n",
        "names[1] = \"Rob\"\n",
        "print(names)\n",
        "\n",
        "# Add 3 new names to the end of the list.\n",
        "names.extend(['ray', 'rick', 'ronny'])\n",
        "\n",
        "print(names)"
      ],
      "execution_count": 0,
      "outputs": [
        {
          "output_type": "stream",
          "text": [
            "jack\n",
            "['jill', 'jack', 'john', 'jacob']\n",
            "['jill', 'Rob', 'john', 'jacob', 'joe']\n",
            "['jill', 'Rob', 'john', 'jacob', 'joe', 'ray', 'rick', 'ronny']\n"
          ],
          "name": "stdout"
        }
      ]
    },
    {
      "cell_type": "markdown",
      "metadata": {
        "id": "lydOzGvFVI_6",
        "colab_type": "text"
      },
      "source": [
        "\n",
        "\n",
        "### P3.PY\n",
        "\n",
        "\n"
      ]
    },
    {
      "cell_type": "code",
      "metadata": {
        "id": "86gQFKLNVI_7",
        "colab_type": "code",
        "outputId": "66a42db5-cdcc-4e13-fef1-f9d0815ad104",
        "colab": {
          "base_uri": "https://localhost:8080/",
          "height": 68
        }
      },
      "source": [
        "\"\"\"\n",
        "Math Operations\n",
        "\"\"\"\n",
        "\n",
        "# Save a list with the numbers `2`, `4`, `6`, and `8` into a variable called `numbers`. Use this variable for all the problems in this PSET.\n",
        "\n",
        "numbers = None\n",
        "numbers = [2,4,6,8]\n",
        "\n",
        "# Print the max of `numbers`.\n",
        "print(max(numbers))\n",
        "\n",
        "\n",
        "# Pop the last element in `numbers` off; re-insert it at index `2` and print the resultant list.\n",
        "\n",
        "someNum = numbers.pop()\n",
        "numbers.insert(2,someNum)\n",
        "print(numbers)\n",
        "\n",
        "# Pop the second number in `numbers` off.\n",
        "numbers.pop(1)\n",
        "\n",
        "\n",
        "# Append `3` to `numbers`.\n",
        "\n",
        "numbers.append(3)\n",
        "\n",
        "# Print out the average number.\n",
        "print((sum(numbers)/len(numbers)))\n",
        "\n"
      ],
      "execution_count": 0,
      "outputs": [
        {
          "output_type": "stream",
          "text": [
            "8\n",
            "[2, 4, 8, 6]\n",
            "4.75\n"
          ],
          "name": "stdout"
        }
      ]
    },
    {
      "cell_type": "markdown",
      "metadata": {
        "id": "m40a2IGVVI_-",
        "colab_type": "text"
      },
      "source": [
        "\n",
        "\n",
        "## SORTING\n",
        "\n",
        "\n"
      ]
    },
    {
      "cell_type": "markdown",
      "metadata": {
        "id": "2XYhGsPjVUx8",
        "colab_type": "text"
      },
      "source": [
        "### P1.PY"
      ]
    },
    {
      "cell_type": "code",
      "metadata": {
        "id": "NRi8DF1eVI_-",
        "colab_type": "code",
        "colab": {
          "base_uri": "https://localhost:8080/",
          "height": 51
        },
        "outputId": "62cc8baa-57ba-4ebd-c86e-8b5fbb345b87"
      },
      "source": [
        "\"\"\"\n",
        "Spotify Playlists - Sorting\n",
        "\"\"\"\n",
        "\n",
        "# You work for Spotify and are creating a feature for users to alphabetize their playlists by song title. Below is a list of titles from a sample playlist.\n",
        "\n",
        "playlist_titles = ['Tiny Dancer', 'At Last', 'Fortunate Son', \n",
        "'Hey Jude', 'Isn\\'t She Lovely', 'Just the Way You Are', 'I\\'m Yours',\n",
        "'Vienna', 'Roxanne', 'Dancing in the Moonlight']\n",
        "\n",
        "# Alphabetize these songs and print the result.\n",
        "\n",
        "playlist_titles.sort()\n",
        "print(playlist_titles)\n",
        "\n",
        "# Now do the reverse.\n",
        "playlist_titles.sort(reverse=True)\n",
        "print(playlist_titles)\n"
      ],
      "execution_count": 6,
      "outputs": [
        {
          "output_type": "stream",
          "text": [
            "['At Last', 'Dancing in the Moonlight', 'Fortunate Son', 'Hey Jude', \"I'm Yours\", \"Isn't She Lovely\", 'Just the Way You Are', 'Roxanne', 'Tiny Dancer', 'Vienna']\n",
            "['Vienna', 'Tiny Dancer', 'Roxanne', 'Just the Way You Are', \"Isn't She Lovely\", \"I'm Yours\", 'Hey Jude', 'Fortunate Son', 'Dancing in the Moonlight', 'At Last']\n"
          ],
          "name": "stdout"
        }
      ]
    },
    {
      "cell_type": "markdown",
      "metadata": {
        "id": "0xVs38QYVJAA",
        "colab_type": "text"
      },
      "source": [
        "\n",
        "\n",
        "### P2.PY\n",
        "\n",
        "\n"
      ]
    },
    {
      "cell_type": "code",
      "metadata": {
        "id": "VXtT3BB0VJAB",
        "colab_type": "code",
        "colab": {
          "base_uri": "https://localhost:8080/",
          "height": 51
        },
        "outputId": "696105bd-d70c-4585-9902-5a08d0c8b72c"
      },
      "source": [
        "\"\"\"\n",
        "Ordering Random Numbers\n",
        "\"\"\"\n",
        "from random import randint\n",
        "# Create a list of 6 randomly generated numbers called numbers and sort it in descending order.\n",
        "myList = [randint(1,100), randint(1,100), randint(1,100), randint(1,100), randint(1,100), randint(1,100)]\n",
        "print(myList)\n",
        "myList.sort()\n",
        "print(myList)"
      ],
      "execution_count": 11,
      "outputs": [
        {
          "output_type": "stream",
          "text": [
            "[23, 95, 18, 16, 25, 66]\n",
            "[16, 18, 23, 25, 66, 95]\n"
          ],
          "name": "stdout"
        }
      ]
    },
    {
      "cell_type": "markdown",
      "metadata": {
        "id": "cN7amwMkVJAR",
        "colab_type": "text"
      },
      "source": [
        "## LIST MANIPULATION\n"
      ]
    },
    {
      "cell_type": "markdown",
      "metadata": {
        "id": "ImDqbHx5VY4P",
        "colab_type": "text"
      },
      "source": [
        "### P1.PY"
      ]
    },
    {
      "cell_type": "code",
      "metadata": {
        "id": "z8OOTUg6VJAT",
        "colab_type": "code",
        "colab": {
          "base_uri": "https://localhost:8080/",
          "height": 34
        },
        "outputId": "0f76e0f3-1e61-438e-eb85-d042eb82504b"
      },
      "source": [
        "\"\"\"\n",
        "Phone Numbers\n",
        "\"\"\"\n",
        "\n",
        "# Parse this phone number so that a computer can process\n",
        "# it. (Hint: It can't include any non-numeric\n",
        "# characters.)\n",
        "\n",
        "cell = '1.192.168.0143'\n",
        "nums = cell.split('.')\n",
        "print(nums)"
      ],
      "execution_count": 12,
      "outputs": [
        {
          "output_type": "stream",
          "text": [
            "['1', '192', '168', '0143']\n"
          ],
          "name": "stdout"
        }
      ]
    },
    {
      "cell_type": "markdown",
      "metadata": {
        "id": "HpUeu1YiVJAX",
        "colab_type": "text"
      },
      "source": [
        "\n",
        "\n",
        "### P2.PY\n",
        "\n",
        "\n"
      ]
    },
    {
      "cell_type": "code",
      "metadata": {
        "id": "O1ZpW64qVJAa",
        "colab_type": "code",
        "colab": {
          "base_uri": "https://localhost:8080/",
          "height": 102
        },
        "outputId": "9bb7d7bb-0f8f-4f43-cc5f-20e6186615e4"
      },
      "source": [
        "\"\"\"\n",
        "Basic Math Ops\n",
        "\"\"\"\n",
        "\n",
        "# Given the list below, assign the correct values to the variables below.\n",
        "\t# my_sum = \n",
        "\t# my_min = \n",
        "\t# my_max = \n",
        "\t# my_range = \n",
        "\t# my_mean =\n",
        "\n",
        "nums = [2, 19, 20, 12, 6, 24, 8, 30, 28, 25]\n",
        "my_sum = 0\n",
        "for number in nums:\n",
        "\tmy_sum += number\n",
        "\n",
        "\n",
        "\n",
        "# Once you finish, print out each value **on its own line** in this format: \"my_median = \" etc.\n",
        "print(f\"My Sum: {my_sum}\")\n",
        "nums.sort()\n",
        "print(f\"My min: {nums[0]}\")\n",
        "print(f\"My max: {nums[len(nums) - 1]}\")\n",
        "print(f\"My range: {nums[0]} to {nums[len(nums) - 1]}\")\n",
        "print(f\"My mean: {my_sum/len(nums)}\")"
      ],
      "execution_count": 27,
      "outputs": [
        {
          "output_type": "stream",
          "text": [
            "My Sum: 174\n",
            "My min: 2\n",
            "My max: 30\n",
            "My range: 2 to 30\n",
            "My mean: 17.4\n"
          ],
          "name": "stdout"
        }
      ]
    },
    {
      "cell_type": "markdown",
      "metadata": {
        "id": "X3BMzIHyVJAd",
        "colab_type": "text"
      },
      "source": [
        "\n",
        "\n",
        "### P3.PY\n",
        "\n",
        "\n"
      ]
    },
    {
      "cell_type": "code",
      "metadata": {
        "id": "jz3ccPm3VJAe",
        "colab_type": "code",
        "colab": {
          "base_uri": "https://localhost:8080/",
          "height": 85
        },
        "outputId": "d819aa3e-edeb-446b-edcc-4fe5563293c0"
      },
      "source": [
        "\"\"\"\n",
        "Merge Lists with Duplicates\n",
        "\"\"\"\n",
        "\n",
        "# Use the two lists below to solve this problem. Print out the result from each section as you go along.\n",
        "\n",
        "list1, list2 = [2, 8, 6], [10, 4, 12]\n",
        "\n",
        "\n",
        "# A) Add another instance of each item in list1 to list1 again and assign the results to list3.\n",
        "list3 = None\n",
        "list1.extend(list1)\n",
        "list3 = []\n",
        "list3.extend(list1)\n",
        "print(list3)\n",
        "\n",
        "# B) Combine the two given lists and assign them to list4.\n",
        "list1 = [2, 8, 6]\n",
        "list4 = None\n",
        "list4 = []\n",
        "list4.extend(list1)\n",
        "list4.extend(list2)\n",
        "print(list4)\n",
        "\n",
        "# C) Replace the first 3 items in list 3 with the numbers 13, 16, 9.\n",
        "list3[:3] = [13,16,9]\n",
        "print(list3)\n",
        "\n",
        "# D) Merge list3 and list4 to create a list containing no duplicates and store this in list5.\n",
        "list5 = None\n",
        "list5 = []\n",
        "list5.extend(list3)\n",
        "for list4Item in list4:\n",
        "  if list4Item not in list5:\n",
        "    list5.append(list4Item)\n",
        "print(list5)\n",
        "# Take a look at your printed statements to see the evolution of your lists with each step of this problem.\n"
      ],
      "execution_count": 66,
      "outputs": [
        {
          "output_type": "stream",
          "text": [
            "[2, 8, 6, 2, 8, 6]\n",
            "[2, 8, 6, 10, 4, 12]\n",
            "[13, 16, 9, 2, 8, 6]\n",
            "[13, 16, 9, 2, 8, 6, 10, 4, 12]\n"
          ],
          "name": "stdout"
        }
      ]
    },
    {
      "cell_type": "markdown",
      "metadata": {
        "id": "Qqtm5kHYVJAg",
        "colab_type": "text"
      },
      "source": [
        "\n",
        "\n",
        "### P4.PY\n",
        "\n",
        "\n"
      ]
    },
    {
      "cell_type": "code",
      "metadata": {
        "id": "wgF_gvjVVJAh",
        "colab_type": "code",
        "colab": {
          "base_uri": "https://localhost:8080/",
          "height": 51
        },
        "outputId": "2f30c955-ae7f-4dd3-9f1c-c3219d12bfae"
      },
      "source": [
        "\"\"\"\n",
        "Cool Runnings!\n",
        "\"\"\"\n",
        "\n",
        "# Here's a quote from the movie 'Cool Runnings'. :)\n",
        "\n",
        "# Replace the word bobsled with \"YOLO\" and print the resultant list as 4 sentences (i.e. NOT a list), each on a new line.\n",
        "\n",
        "cool_runnings = [\n",
        "\t'Feel', 'the', 'rhythm.',\n",
        "\t'Feel', 'the', 'rhyme.',\n",
        "\t'Get', 'on', 'up.',\n",
        "\t'It\\'s', 'bobsled', 'time!'\n",
        "]\n",
        "\n",
        "newList = []\n",
        "for word in cool_runnings:\n",
        "\t# print(f\"This is the word {word}\")\n",
        "\tif word == \"bobsled\":\n",
        "\t\tnewList.append(\"YOLO\")\n",
        "\telse: \n",
        "\t\tnewList.append(word)\n",
        "\n",
        "print(newList)\n",
        "\n",
        "something = \" \".join(newList)\n",
        "print(something)"
      ],
      "execution_count": 74,
      "outputs": [
        {
          "output_type": "stream",
          "text": [
            "['Feel', 'the', 'rhythm.', 'Feel', 'the', 'rhyme.', 'Get', 'on', 'up.', \"It's\", 'YOLO', 'time!']\n",
            "Feel the rhythm. Feel the rhyme. Get on up. It's YOLO time!\n"
          ],
          "name": "stdout"
        }
      ]
    },
    {
      "cell_type": "markdown",
      "metadata": {
        "id": "fyknlYbQVJAj",
        "colab_type": "text"
      },
      "source": [
        "## LIST CHALLENGES\n",
        "\n",
        "\n"
      ]
    },
    {
      "cell_type": "markdown",
      "metadata": {
        "id": "qYrO5tA-VdxK",
        "colab_type": "text"
      },
      "source": [
        "### P1.PY"
      ]
    },
    {
      "cell_type": "code",
      "metadata": {
        "id": "R1ouYtGvVJAq",
        "colab_type": "code",
        "colab": {
          "base_uri": "https://localhost:8080/",
          "height": 34
        },
        "outputId": "3aedaced-87ed-4b81-cd67-f8689c16bf2b"
      },
      "source": [
        "\"\"\"\n",
        "CHALLENGE - Extensions\n",
        "\"\"\"\n",
        "\n",
        "# ** Challenge** Add each element of the tuple1 to list1 *individually* and print the result.\n",
        "\n",
        "list1 = [6, 12, 9, 4, 10, 1]\n",
        "tuple1 = [(15,3), (6,2), (1, 8)]\n",
        "\n",
        "for element in tuple1:\n",
        "  for partTuple in element:\n",
        "    list1.append(partTuple)\n",
        "\n",
        "print(list1)\n"
      ],
      "execution_count": 77,
      "outputs": [
        {
          "output_type": "stream",
          "text": [
            "[6, 12, 9, 4, 10, 1, 15, 3, 6, 2, 1, 8]\n"
          ],
          "name": "stdout"
        }
      ]
    },
    {
      "cell_type": "markdown",
      "metadata": {
        "id": "X5MSdZzXVJAt",
        "colab_type": "text"
      },
      "source": [
        "\n",
        "\n",
        "### P2.PY\n",
        "\n",
        "\n"
      ]
    },
    {
      "cell_type": "code",
      "metadata": {
        "id": "xyu2RSZcVJAt",
        "colab_type": "code",
        "colab": {
          "base_uri": "https://localhost:8080/",
          "height": 170
        },
        "outputId": "c4819186-8cf6-4766-db66-a35228908872"
      },
      "source": [
        "\"\"\"\n",
        "CHALLENGE - Core Statistics Calculations\n",
        "\"\"\"\n",
        "\n",
        "# Given the sample below, find the mean, median, mode, variance, and standard deviation of this sample. Print them out separately, but in the same format as before.\n",
        "\t# my_median = \n",
        "\t# my_mode = \n",
        "\t# my_variance = \n",
        "\t# my_sd = \n",
        "\n",
        "sample = [6, 19, 20, 12, 6, 24, 8, 30, 28, 25]\n",
        "\n",
        "sample_sum = sum(sample)\n",
        "print(sample_sum)\n",
        "\n",
        "sample_len = len(sample)\n",
        "print(sample_len)\n",
        "\n",
        "sample_mean = sample_sum/sample_len\n",
        "print(f\"Sample mean is: {sample_mean}\")\n",
        "\n",
        "\n",
        "sample.sort()\n",
        "print(sample)\n",
        "#Get middle two nums\n",
        "mid_index_1 = int(sample_len/2) -1\n",
        "mid_index_2 = int(sample_len/2)\n",
        "sample_median = (sample[mid_index_1] + sample[mid_index_2])/2\n",
        "print(f\"Sample median is: {sample_median}\")\n",
        "\n",
        "print(sample)\n",
        "\n",
        "#Mode\n",
        "max_count = {}\n",
        "max_val = 0 \n",
        "for item in sample: \n",
        "\t# print(item)\n",
        "\t# print(item)\n",
        "\t# print(sample.count(item))\n",
        "\tif(sample.count(item) > max_val):\n",
        "\t\tmax_count.update({item: sample.count(item)})\n",
        "\t\tmax_val = sample.count(item)\n",
        "\t# max_count = {item:}\n",
        "# print(f\"Sample median is: {sample_median}\")\n",
        "\n",
        "print(f\"Sample mode is {list(max_count.keys())[0]}\")\n",
        "\n",
        "import statistics \n",
        "\n",
        "print(\"Variance of sample set is % s\" \n",
        "      %(statistics.variance(sample))) \n",
        "# Once you finish, print out each value **on its own line** in this format: \"median = \" etc.\n",
        "\n",
        "print(\"Standard Deviation of sample is % s \" \n",
        "                % (statistics.stdev(sample))) \n"
      ],
      "execution_count": 114,
      "outputs": [
        {
          "output_type": "stream",
          "text": [
            "178\n",
            "10\n",
            "Sample mean is: 17.8\n",
            "[6, 6, 8, 12, 19, 20, 24, 25, 28, 30]\n",
            "Sample median is: 19.5\n",
            "[6, 6, 8, 12, 19, 20, 24, 25, 28, 30]\n",
            "Sample mode is 6\n",
            "Variance of sample set is 84.17777777777778\n",
            "Standard Deviation of sample is 9.174844836714012 \n"
          ],
          "name": "stdout"
        }
      ]
    }
  ]
}